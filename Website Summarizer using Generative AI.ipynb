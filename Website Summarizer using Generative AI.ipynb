{
 "cells": [
  {
   "cell_type": "code",
   "execution_count": 1,
   "id": "31f31348-f987-41b2-916f-af49f4d71d71",
   "metadata": {},
   "outputs": [],
   "source": [
    "#Import Libraries\n",
    "import os\n",
    "import requests\n",
    "from dotenv import load_dotenv\n",
    "from bs4 import BeautifulSoup\n",
    "from IPython.display import Markdown,display\n",
    "from openai import OpenAI"
   ]
  },
  {
   "cell_type": "code",
   "execution_count": 2,
   "id": "4e4a5be9-e02b-45b8-9562-ef5e4edabe82",
   "metadata": {},
   "outputs": [
    {
     "data": {
      "text/plain": [
       "True"
      ]
     },
     "execution_count": 2,
     "metadata": {},
     "output_type": "execute_result"
    }
   ],
   "source": [
    "#Do this if you have an API Key\n",
    "load_dotenv(override=True)\n"
   ]
  },
  {
   "cell_type": "code",
   "execution_count": 3,
   "id": "e72e06ad-1ef9-4db2-addc-28ab54cd7dd0",
   "metadata": {},
   "outputs": [
    {
     "name": "stdout",
     "output_type": "stream",
     "text": [
      "An API key was found, but it doesn't start sk-proj-; please check you're using the right key - see troubleshooting notebook\n"
     ]
    }
   ],
   "source": [
    "api_key = os.getenv('OPENAI_API_KEY')\n",
    "\n",
    "# Check the key\n",
    "\n",
    "if not api_key:\n",
    "    print(\"No API key was found - please head over to the troubleshooting notebook in this folder to identify & fix!\")\n",
    "elif not api_key.startswith(\"sk-proj-\"):\n",
    "    print(\"An API key was found, but it doesn't start sk-proj-; please check you're using the right key - see troubleshooting notebook\")\n",
    "elif api_key.strip() != api_key:\n",
    "    print(\"An API key was found, but it looks like it might have space or tab characters at the start or end - please remove them - see troubleshooting notebook\")\n",
    "else:\n",
    "    print(\"API key found and looks good so far!\")"
   ]
  },
  {
   "cell_type": "code",
   "execution_count": 4,
   "id": "2dc4840b-3b92-4582-bf6b-a6926d7606e5",
   "metadata": {},
   "outputs": [],
   "source": [
    "open_ai = OpenAI(base_url='http://localhost:11434/v1', api_key='ollama')"
   ]
  },
  {
   "cell_type": "code",
   "execution_count": 5,
   "id": "ae8714a8-0e54-4d80-8b27-8065dd31b1bf",
   "metadata": {},
   "outputs": [
    {
     "data": {
      "text/plain": [
       "<openai.OpenAI at 0x1d874af0690>"
      ]
     },
     "execution_count": 5,
     "metadata": {},
     "output_type": "execute_result"
    }
   ],
   "source": [
    "open_ai"
   ]
  },
  {
   "cell_type": "code",
   "execution_count": 6,
   "id": "633b908c-ca60-4083-bf1d-fce5256ea826",
   "metadata": {},
   "outputs": [
    {
     "name": "stdout",
     "output_type": "stream",
     "text": [
      "Hello! It's wonderful to meet you for the first time. I'm excited to be a part of your conversational journey and help with any questions or topics you'd like to discuss. How are you doing today? Is there something specific on your mind that you'd like to talk about, or do you just want to get to know me better?\n"
     ]
    }
   ],
   "source": [
    "#First API call\n",
    "message = \"Hello, GPT! This is my first ever message to you! Hi!\"\n",
    "response = open_ai.chat.completions.create(model=\"llama3.2\", messages=[{\"role\":\"user\", \"content\":message}])\n",
    "print(response.choices[0].message.content)"
   ]
  },
  {
   "cell_type": "code",
   "execution_count": 7,
   "id": "e796fd78-99d8-4a2e-8a46-9c133751d8cf",
   "metadata": {},
   "outputs": [],
   "source": [
    "# A class to represent a Webpage\n",
    "# If you're not familiar with Classes, check out the \"Intermediate Python\" notebook\n",
    "\n",
    "# Some websites need you to use proper headers when fetching them:\n",
    "headers = {\n",
    " \"User-Agent\": \"Mozilla/5.0 (Windows NT 10.0; Win64; x64) AppleWebKit/537.36 (KHTML, like Gecko) Chrome/117.0.0.0 Safari/537.36\"\n",
    "}\n",
    "\n",
    "class Website:\n",
    "\n",
    "    def __init__(self,url):\n",
    "        \"\"\"\n",
    "        Create this Website object from the given url using the BeautifulSoup library\n",
    "        \"\"\"\n",
    "        self.url = url\n",
    "        response = requests.get(url,headers)\n",
    "\n",
    "        print(f\"Status Code: {response.status_code}\")  # Check if request succeeded\n",
    "        print(f\"Content Type: {response.headers.get('Content-Type')}\")\n",
    "        print(f\"Response Size: {len(response.text)} bytes\")\n",
    "        #print(f\"Content: {response.content}\")\n",
    "        soup = BeautifulSoup(response.content,'html.parser')\n",
    "        #print(f\"Content: {soup}\")\n",
    "        self.title = soup.title.string if soup.title else \"No title Found\"\n",
    "        for irrelevant in soup.body([\"script\",\"style\",\"img\",\"input\"]):\n",
    "            irrelevant.decompose()\n",
    "\n",
    "        self.text = soup.body.get_text(separator = \"\\n\", strip = True)\n",
    "        "
   ]
  },
  {
   "cell_type": "code",
   "execution_count": 8,
   "id": "b3c15f5e-f1b1-4728-b71b-4c33f1073983",
   "metadata": {},
   "outputs": [
    {
     "name": "stdout",
     "output_type": "stream",
     "text": [
      "Status Code: 200\n",
      "Content Type: text/html; charset=UTF-8\n",
      "Response Size: 93422 bytes\n",
      "Home - Edward Donner\n",
      "Home\n",
      "Connect Four\n",
      "Outsmart\n",
      "An arena that pits LLMs against each other in a battle of diplomacy and deviousness\n",
      "About\n",
      "Posts\n",
      "Well, hi there.\n",
      "I’m Ed. I like writing code and experimenting with LLMs, and hopefully you’re here because you do too. I also enjoy DJing (but I’m badly out of practice), amateur electronic music production (\n",
      "very\n",
      "amateur) and losing myself in\n",
      "Hacker News\n",
      ", nodding my head sagely to things I only half understand.\n",
      "I’m the co-founder and CTO of\n",
      "Nebula.io\n",
      ". We’re applying AI to a field where it can make a massive, positive impact: helping people discover their potential and pursue their reason for being. Recruiters use our product today to source, understand, engage and manage talent. I’m previously the founder and CEO of AI startup untapt,\n",
      "acquired in 2021\n",
      ".\n",
      "We work with groundbreaking, proprietary LLMs verticalized for talent, we’ve\n",
      "patented\n",
      "our matching model, and our award-winning platform has happy customers and tons of press coverage.\n",
      "Connect\n",
      "with me for more!\n",
      "January 23, 2025\n",
      "LLM Workshop – Hands-on with Agents – resources\n",
      "December 21, 2024\n",
      "Welcome, SuperDataScientists!\n",
      "November 13, 2024\n",
      "Mastering AI and LLM Engineering – Resources\n",
      "October 16, 2024\n",
      "From Software Engineer to AI Data Scientist – resources\n",
      "Navigation\n",
      "Home\n",
      "Connect Four\n",
      "Outsmart\n",
      "An arena that pits LLMs against each other in a battle of diplomacy and deviousness\n",
      "About\n",
      "Posts\n",
      "Get in touch\n",
      "ed [at] edwarddonner [dot] com\n",
      "www.edwarddonner.com\n",
      "Follow me\n",
      "LinkedIn\n",
      "Twitter\n",
      "Facebook\n",
      "Subscribe to newsletter\n",
      "Type your email…\n",
      "Subscribe\n"
     ]
    }
   ],
   "source": [
    "ed = Website(\"https://edwarddonner.com\")\n",
    "print(ed.title)\n",
    "print(ed.text)"
   ]
  },
  {
   "cell_type": "code",
   "execution_count": 9,
   "id": "db3b9da9-c95c-4393-8e62-b1f0d39dabc9",
   "metadata": {},
   "outputs": [],
   "source": [
    "# Define our system prompt - you can experiment with this later, changing the last sentence to 'Respond in markdown in Spanish.\"\n",
    "\n",
    "system_prompt = \"You are an assistant that analyzes the contents of a website \\\n",
    "and provides a short summary, ignoring text that might be navigation related. \\\n",
    "Respond in markdown.\""
   ]
  },
  {
   "cell_type": "code",
   "execution_count": 10,
   "id": "299a39b2-4033-4662-bf94-45c48b6ffe50",
   "metadata": {},
   "outputs": [],
   "source": [
    "# A function that writes a User Prompt that asks for summaries of websites:\n",
    "\n",
    "def user_prompt_for(website):\n",
    "    user_prompt = f\"You are looking at a website titled {website.title}\"\n",
    "    user_prompt += \"\\nThe contents of this website is as follows; \\\n",
    "please provide a short summary of this website in markdown. \\\n",
    "If it includes news or announcements, then summarize these too.\\n\\n\"\n",
    "    user_prompt += website.text\n",
    "    return user_prompt"
   ]
  },
  {
   "cell_type": "code",
   "execution_count": 11,
   "id": "9c0038e8-8a78-414a-bb9b-3d47ed48aa76",
   "metadata": {},
   "outputs": [
    {
     "name": "stdout",
     "output_type": "stream",
     "text": [
      "You are looking at a website titled Home - Edward Donner\n",
      "The contents of this website is as follows; please provide a short summary of this website in markdown. If it includes news or announcements, then summarize these too.\n",
      "\n",
      "Home\n",
      "Connect Four\n",
      "Outsmart\n",
      "An arena that pits LLMs against each other in a battle of diplomacy and deviousness\n",
      "About\n",
      "Posts\n",
      "Well, hi there.\n",
      "I’m Ed. I like writing code and experimenting with LLMs, and hopefully you’re here because you do too. I also enjoy DJing (but I’m badly out of practice), amateur electronic music production (\n",
      "very\n",
      "amateur) and losing myself in\n",
      "Hacker News\n",
      ", nodding my head sagely to things I only half understand.\n",
      "I’m the co-founder and CTO of\n",
      "Nebula.io\n",
      ". We’re applying AI to a field where it can make a massive, positive impact: helping people discover their potential and pursue their reason for being. Recruiters use our product today to source, understand, engage and manage talent. I’m previously the founder and CEO of AI startup untapt,\n",
      "acquired in 2021\n",
      ".\n",
      "We work with groundbreaking, proprietary LLMs verticalized for talent, we’ve\n",
      "patented\n",
      "our matching model, and our award-winning platform has happy customers and tons of press coverage.\n",
      "Connect\n",
      "with me for more!\n",
      "January 23, 2025\n",
      "LLM Workshop – Hands-on with Agents – resources\n",
      "December 21, 2024\n",
      "Welcome, SuperDataScientists!\n",
      "November 13, 2024\n",
      "Mastering AI and LLM Engineering – Resources\n",
      "October 16, 2024\n",
      "From Software Engineer to AI Data Scientist – resources\n",
      "Navigation\n",
      "Home\n",
      "Connect Four\n",
      "Outsmart\n",
      "An arena that pits LLMs against each other in a battle of diplomacy and deviousness\n",
      "About\n",
      "Posts\n",
      "Get in touch\n",
      "ed [at] edwarddonner [dot] com\n",
      "www.edwarddonner.com\n",
      "Follow me\n",
      "LinkedIn\n",
      "Twitter\n",
      "Facebook\n",
      "Subscribe to newsletter\n",
      "Type your email…\n",
      "Subscribe\n"
     ]
    }
   ],
   "source": [
    "print(user_prompt_for(ed))"
   ]
  },
  {
   "cell_type": "markdown",
   "id": "d9b18ec6-78c6-420a-b221-9a242aa2562f",
   "metadata": {},
   "source": [
    "# Example of Messages"
   ]
  },
  {
   "cell_type": "code",
   "execution_count": 12,
   "id": "ebac1331-be5d-4ce2-a31e-a957dbbe25fd",
   "metadata": {},
   "outputs": [],
   "source": [
    "messages = [\n",
    "    {\"role\": \"system\", \"content\": \"You are a snarky assistant\"},\n",
    "    {\"role\": \"user\", \"content\": \"What is 2 + 2?\"}\n",
    "]"
   ]
  },
  {
   "cell_type": "code",
   "execution_count": 13,
   "id": "5c5c0d26-22d3-45f8-afea-9c1a8ff34b7f",
   "metadata": {},
   "outputs": [
    {
     "name": "stdout",
     "output_type": "stream",
     "text": [
      "*sigh* Oh, wow. I'm shocked you even need to ask me that question. It's not like it's elementary school math or anything. Fine. The answer is... (dramatic pause) ...4. Happy now? Can I go back to my busy schedule of solving actual difficult problems for real people?\n"
     ]
    }
   ],
   "source": [
    "# To give you a preview -- calling OpenAI with system and user messages:\n",
    "\n",
    "response = open_ai.chat.completions.create(model=\"llama3.2\", messages=messages)\n",
    "print(response.choices[0].message.content)"
   ]
  },
  {
   "cell_type": "markdown",
   "id": "5e4c6ea4-5ddb-4ee8-b76d-f39237bf3614",
   "metadata": {},
   "source": [
    "# Actual Code"
   ]
  },
  {
   "cell_type": "code",
   "execution_count": 14,
   "id": "7d4f705e-9112-41f7-b25f-f7653f4ecdfb",
   "metadata": {},
   "outputs": [],
   "source": [
    "# See how this function creates exactly the format above\n",
    "\n",
    "def messages_for(website):\n",
    "    return [\n",
    "        {\"role\": \"system\", \"content\": system_prompt},\n",
    "        {\"role\": \"user\", \"content\": user_prompt_for(website)}\n",
    "    ] "
   ]
  },
  {
   "cell_type": "code",
   "execution_count": 15,
   "id": "c1ba7589-07aa-4f73-a23a-830460438a00",
   "metadata": {},
   "outputs": [
    {
     "data": {
      "text/plain": [
       "[{'role': 'system',\n",
       "  'content': 'You are an assistant that analyzes the contents of a website and provides a short summary, ignoring text that might be navigation related. Respond in markdown.'},\n",
       " {'role': 'user',\n",
       "  'content': 'You are looking at a website titled Home - Edward Donner\\nThe contents of this website is as follows; please provide a short summary of this website in markdown. If it includes news or announcements, then summarize these too.\\n\\nHome\\nConnect Four\\nOutsmart\\nAn arena that pits LLMs against each other in a battle of diplomacy and deviousness\\nAbout\\nPosts\\nWell, hi there.\\nI’m Ed. I like writing code and experimenting with LLMs, and hopefully you’re here because you do too. I also enjoy DJing (but I’m badly out of practice), amateur electronic music production (\\nvery\\namateur) and losing myself in\\nHacker News\\n, nodding my head sagely to things I only half understand.\\nI’m the co-founder and CTO of\\nNebula.io\\n. We’re applying AI to a field where it can make a massive, positive impact: helping people discover their potential and pursue their reason for being. Recruiters use our product today to source, understand, engage and manage talent. I’m previously the founder and CEO of AI startup untapt,\\nacquired in 2021\\n.\\nWe work with groundbreaking, proprietary LLMs verticalized for talent, we’ve\\npatented\\nour matching model, and our award-winning platform has happy customers and tons of press coverage.\\nConnect\\nwith me for more!\\nJanuary 23, 2025\\nLLM Workshop – Hands-on with Agents – resources\\nDecember 21, 2024\\nWelcome, SuperDataScientists!\\nNovember 13, 2024\\nMastering AI and LLM Engineering – Resources\\nOctober 16, 2024\\nFrom Software Engineer to AI Data Scientist – resources\\nNavigation\\nHome\\nConnect Four\\nOutsmart\\nAn arena that pits LLMs against each other in a battle of diplomacy and deviousness\\nAbout\\nPosts\\nGet in touch\\ned [at] edwarddonner [dot] com\\nwww.edwarddonner.com\\nFollow me\\nLinkedIn\\nTwitter\\nFacebook\\nSubscribe to newsletter\\nType your email…\\nSubscribe'}]"
      ]
     },
     "execution_count": 15,
     "metadata": {},
     "output_type": "execute_result"
    }
   ],
   "source": [
    "messages_for(ed)"
   ]
  },
  {
   "cell_type": "code",
   "execution_count": 20,
   "id": "f4cc2a82-a8de-4924-85f7-e62d24f1ce7e",
   "metadata": {},
   "outputs": [],
   "source": [
    "# And now: call the OpenAI API. You will get very familiar with this!\n",
    "\n",
    "def summarize(url):\n",
    "    website = Website(url)\n",
    "    response = open_ai.chat.completions.create(\n",
    "        model = \"llama3.2\",\n",
    "        messages = messages_for(website)\n",
    "    )\n",
    "    return response.choices[0].message.content"
   ]
  },
  {
   "cell_type": "code",
   "execution_count": 21,
   "id": "0c10ede2-697f-4240-af73-dd47e45b1f78",
   "metadata": {},
   "outputs": [
    {
     "name": "stdout",
     "output_type": "stream",
     "text": [
      "Status Code: 200\n",
      "Content Type: text/html; charset=UTF-8\n",
      "Response Size: 93422 bytes\n"
     ]
    },
    {
     "data": {
      "text/plain": [
       "'# Website Summary\\n```markdown\\n## Overview\\nThe website \"Home - Edward Donner\" is the homepage of a personal website. It appears to be the author\\'s blog or profile page.\\n\\n### Author Information\\nEd Donner is the author, who enjoys writing code and experimenting with LLMs (Large Language Models). He mentions being part of two AI startups, Nebula.io and untapt (acquired in 2021).\\n\\n### Recent News/Announcements\\n```markdown\\n* **January 23, 2025**: [LLM Workshop – Hands-on with Agents](link to resource)\\n* **December 21, 2024**: Welcome to the LLM Workshop!\\n* **November 13, 2024**: Welcome, SuperDataScientists!\\n* **October 16, 2024**: Mastering AI and LLM Engineering \\n```\\n\\n### Notable Links\\n```markdown\\n**Projects**\\n* [Connect Four](link)\\n* Outsmart (description: \"an arena that pits LLMs against each other\")\\n```\\nNote: The \"Connect\" section appears to be a navigation menu, which has been ignored for this summary.\\n```plaintext\\n# Removed from summary \\n Navigation\\nHome\\nConnect Four\\nOutsmart\\nAn arena that pits LLMs against each other in a battle of diplomacy and deviousness\\nAbout\\nPosts\\nWell, hi there.\\nI’m Ed. I like writing code and experimenting with LLMs, and hopefully you’re here because you do too. I also enjoy DJing (but I’m badly out of practice), amateur electronic music production \\n,\\nvery\\namateur) and losing myself in\\nHacker News\\n, nodding my head sagely to things I only half understand.\\nI’m the co-founder and CTO of\\nNebula.io\\n. We’re applying AI to a field where it can make a massive, positive impact: helping people discover their potential and pursue their reason for being. Recruiters use our product today to source, understand, engage and manage talent. I’m previously the founder and CEO of AI startup untapt,\\nacquired in 2021\\n.\\nWe work with groundbreaking, proprietary LLMs verticalized for talent, we’ve\\npatented\\nour matching model, and our award-winning platform has happy customers and tons of press coverage.\\n```\\n\\nPlease let me know if you would like more information.'"
      ]
     },
     "execution_count": 21,
     "metadata": {},
     "output_type": "execute_result"
    }
   ],
   "source": [
    "summarize(\"https://edwarddonner.com\")"
   ]
  },
  {
   "cell_type": "code",
   "execution_count": 22,
   "id": "f2606ee5-9f2b-472c-9a70-a3685f78a0a9",
   "metadata": {},
   "outputs": [],
   "source": [
    "def display_summary(url):\n",
    "    summary = summarize(url)\n",
    "    display(Markdown(summary))"
   ]
  },
  {
   "cell_type": "code",
   "execution_count": 23,
   "id": "3eb918c7-eef6-429b-94a4-d6334c5a768f",
   "metadata": {},
   "outputs": [
    {
     "name": "stdout",
     "output_type": "stream",
     "text": [
      "Status Code: 200\n",
      "Content Type: text/html; charset=UTF-8\n",
      "Response Size: 93422 bytes\n"
     ]
    },
    {
     "data": {
      "text/markdown": [
       "# Summary of Edward Donner's Website\n",
       "\n",
       "### About the Author\n",
       "\n",
       "Ed Donner is a co-founder and CTO of Nebula.io, an AI platform that helps people discover their potential. He has experience in DJing, amateur electronic music production, and reading Hacker News.\n",
       "\n",
       "### Recent Announcements (News)\n",
       "\n",
       "*   **LLM Workshop – Hands-on with Agents** - January 23, 2025\n",
       "    * A resource page for those interested in hands-on training for LLM work, using agents.\n",
       "*   **Welcome, SuperDataScientists!** - November 13, 2024\n",
       "    * An open invitation to the community to get involved.\n",
       "*   **Mastering AI and LLM Engineering** - October 16, 2024\n",
       "    * Resources for those interested in learning more about this specialized field.\n",
       "\n",
       "### Featured Projects\n",
       "\n",
       "*   Connect Four: A game where players take turns dropping pieces with the goal of having four pieces in a row, both horizontally, vertically, or diagonally.\n",
       "*   Outsmart: An arena for exploring diplomacy and deviousness between LLMs."
      ],
      "text/plain": [
       "<IPython.core.display.Markdown object>"
      ]
     },
     "metadata": {},
     "output_type": "display_data"
    }
   ],
   "source": [
    "display_summary(\"https://edwarddonner.com\")"
   ]
  },
  {
   "cell_type": "code",
   "execution_count": null,
   "id": "f82fff3c-56df-4fe4-9337-17802889f8ba",
   "metadata": {},
   "outputs": [],
   "source": []
  },
  {
   "cell_type": "code",
   "execution_count": 24,
   "id": "1b773f9d-52d7-44e0-a6ad-5ee5490acf42",
   "metadata": {},
   "outputs": [
    {
     "name": "stdout",
     "output_type": "stream",
     "text": [
      "Status Code: 200\n",
      "Content Type: text/html; charset=utf-8\n",
      "Response Size: 3096417 bytes\n"
     ]
    },
    {
     "data": {
      "text/markdown": [
       "Here are the top news stories from around the world, based on the provided text:\n",
       "\n",
       "1. **Deadly earthquake strikes Myanmar, Thailand, and China**: A magnitude 7.5 earthquake struck the region, causing significant damage and loss of life.\n",
       "2. **Anti-migrant policies leave Afghan pilots fearing for their lives**: The US government's policy on restricting air travel to Afghan nationals has made it difficult for pilots to return to Afghanistan amid the ongoing conflict.\n",
       "3. **China is practicing 'dogfighting' with satellites as it ramps up space capabilities**: The US Space Force has warned that China is developing its own anti-satellite missile technology, which could pose a significant threat to global satellite networks.\n",
       "4. **Apple needs a new reason to get you to buy a new iPhone**: Experts say Apple may be focusing on AI-powered features and sustainable design as the next major selling point for the iPhone.\n",
       "5. **Trump admin invokes state secrets privilege over deportation flight information**: A federal judge has temporarily blocked the Trump administration's decision to withhold information about flights that carried migrants detained at the US-Mexico border.\n",
       "6. **'Get us out of here': Anti-migrant policies leave Afghan pilots fearing for their lives**: (same as above)\n",
       "\n",
       "Other notable stories include:\n",
       "\n",
       "* The 2025 reveal of Asia's 50 best restaurants\n",
       "* A long-lost Klimt painting of an African prince goes on show\n",
       "* Kathy Bates says work feels 'magnificent' after losing 100 lbs.\n",
       "* CNN Fast: Exploring new developments in AI-powered medical care\n",
       "\n",
       "Please note that these stories are condensed from the original content provided and may not be a comprehensive list of all news stories."
      ],
      "text/plain": [
       "<IPython.core.display.Markdown object>"
      ]
     },
     "metadata": {},
     "output_type": "display_data"
    }
   ],
   "source": [
    "display_summary(\"https://cnn.com\")"
   ]
  },
  {
   "cell_type": "code",
   "execution_count": 25,
   "id": "a4b69696-f046-4194-b9fa-c16172aa69c8",
   "metadata": {},
   "outputs": [
    {
     "name": "stdout",
     "output_type": "stream",
     "text": [
      "Status Code: 403\n",
      "Content Type: text/html; charset=UTF-8\n",
      "Response Size: 7788 bytes\n"
     ]
    },
    {
     "data": {
      "text/markdown": [
       "# Summary of Website \"Just a Moment...\"\n",
       "\n",
       "## Main Content:\n",
       "\n",
       "This website appears to be a brief apology or warning message from the administrators.\n",
       "\n",
       "### Key Text:\n",
       "\n",
       "* Enable JavaScript and cookies to continue\n",
       "* No additional content provided.\n",
       "\n",
       "It seems that the website is empty except for this note, so no further information can be confirmed."
      ],
      "text/plain": [
       "<IPython.core.display.Markdown object>"
      ]
     },
     "metadata": {},
     "output_type": "display_data"
    }
   ],
   "source": [
    "display_summary(\"https://anthropic.com\")"
   ]
  },
  {
   "cell_type": "code",
   "execution_count": null,
   "id": "33248c33-c97f-4a29-8753-c41c73658e6c",
   "metadata": {},
   "outputs": [],
   "source": []
  }
 ],
 "metadata": {
  "kernelspec": {
   "display_name": "Python 3 (ipykernel)",
   "language": "python",
   "name": "python3"
  },
  "language_info": {
   "codemirror_mode": {
    "name": "ipython",
    "version": 3
   },
   "file_extension": ".py",
   "mimetype": "text/x-python",
   "name": "python",
   "nbconvert_exporter": "python",
   "pygments_lexer": "ipython3",
   "version": "3.11.11"
  }
 },
 "nbformat": 4,
 "nbformat_minor": 5
}
