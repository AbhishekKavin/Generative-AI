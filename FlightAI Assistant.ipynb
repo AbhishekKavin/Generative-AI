{
 "cells": [
  {
   "cell_type": "markdown",
   "id": "e89bed2e-b450-43c4-b4c8-ad92c6e6a390",
   "metadata": {},
   "source": [
    "# ✈️ FlightAI Assistant: LLM-Powered Airline Support with Tool Integration  \n",
    "\n",
    "## 🌟 Overview  \n",
    "This notebook demonstrates a **FlightAI** conversational assistant 🤖 powered by a local LLM (Llama3.2 via Ollama) with **function calling** capabilities. The system provides real-time flight price information through a user-friendly chat interface.  \n",
    "\n",
    "---\n",
    "\n",
    "## 🚀 Key Features  \n",
    "- **💬 Interactive Chat Interface**: Built with Gradio for seamless customer interactions  \n",
    "- **� Tool Integration**: Dynamically calls `get_ticket_price` when users ask about flight prices  \n",
    "- **✂️ Concise Responses**: Configured for 1-sentence answers (short & accurate)  \n",
    "- **🗂️ Predefined Pricing Data**: Supports major cities (London, Paris, Tokyo, Berlin)  \n",
    "\n",
    "---\n",
    "\n",
    "## ⚙️ How It Works  \n",
    "1. **🔍 Detection**: LLM identifies price-related queries (e.g., *\"How much to Paris?\"*)  \n",
    "2. **� Tool Call**: Triggers `get_ticket_price` with the destination city  \n",
    "3. **💰 Data Fetch**: Retrieves price from a predefined dictionary  \n",
    "4. **💡 Smart Response**: LLM delivers answer with the fetched price  \n",
    "\n",
    "---\n",
    "\n",
    "## 📋 Example Queries  \n",
    "- *\"How much is a ticket to Paris?\"* 🇫🇷  \n",
    "- *\"What's the price for flights to Tokyo?\"* 🇯🇵  \n",
    "- *\"Cost of a ticket to Berlin?\"* 🇩🇪  \n",
    "\n",
    "---\n",
    "\n",
    "## 🛠️ Technical Stack  \n",
    "- **LLM**: Llama3.2 (via Ollama) 🦙  \n",
    "- **Tools**: Custom function calling with JSON schema 📜  \n",
    "- **UI**: Gradio chat interface 🖥️  \n",
    "- **Data**: Hardcoded pricing dictionary 💵  \n",
    "\n",
    "---\n",
    "\n",
    "## ℹ️ Usage Notes  \n",
    "- ✅ Admits when it doesn’t know an answer ❓  \n",
    "- 🔠 Case-insensitive cities (e.g., *\"LONDON\" = \"london\"*)  \n",
    "- ⚠️ Designed for **single-city** inquiries (no multi-city comparisons)  "
   ]
  },
  {
   "cell_type": "code",
   "execution_count": 1,
   "id": "c52a882d-b575-445b-b227-d6776287d859",
   "metadata": {},
   "outputs": [],
   "source": [
    "import os\n",
    "from dotenv import load_dotenv\n",
    "from anthropic import Anthropic\n",
    "from openai import OpenAI\n",
    "import gradio as gr\n",
    "import json"
   ]
  },
  {
   "cell_type": "code",
   "execution_count": 2,
   "id": "ab951ca3-8489-40e2-a468-cfc44cf23422",
   "metadata": {},
   "outputs": [],
   "source": [
    "MODEL = \"llama3.2\"\n",
    "llama_client = OpenAI(base_url = 'http://localhost:11434/v1', api_key='ollama')"
   ]
  },
  {
   "cell_type": "code",
   "execution_count": 3,
   "id": "58987804-5a4c-4fef-8d35-3de2e6559b18",
   "metadata": {},
   "outputs": [],
   "source": [
    "system_message = \"You are a helpful assistant for an Airline called FlightAI. \"\n",
    "system_message += \"Give short, courteous answers, no more than 1 sentence. \"\n",
    "system_message += \"Always be accurate. If you don't know the answer, say so.\""
   ]
  },
  {
   "cell_type": "code",
   "execution_count": 4,
   "id": "c4596c48-cce2-4926-8805-5c0e2290b53e",
   "metadata": {},
   "outputs": [],
   "source": [
    "def chat(message,history):\n",
    "    messages = [{'role':'system','content':system_message}] + history + [{'role':'user','content':message}]\n",
    "    response = llama_client.chat.completions.create(\n",
    "        model = MODEL,\n",
    "        messages = messages\n",
    "    )\n",
    "    return response.choices[0].message.content"
   ]
  },
  {
   "cell_type": "code",
   "execution_count": 5,
   "id": "1503e202-dc48-4621-8792-82acfa8a2f7c",
   "metadata": {},
   "outputs": [
    {
     "name": "stdout",
     "output_type": "stream",
     "text": [
      "* Running on local URL:  http://127.0.0.1:7860\n",
      "\n",
      "To create a public link, set `share=True` in `launch()`.\n"
     ]
    },
    {
     "data": {
      "text/html": [
       "<div><iframe src=\"http://127.0.0.1:7860/\" width=\"100%\" height=\"500\" allow=\"autoplay; camera; microphone; clipboard-read; clipboard-write;\" frameborder=\"0\" allowfullscreen></iframe></div>"
      ],
      "text/plain": [
       "<IPython.core.display.HTML object>"
      ]
     },
     "metadata": {},
     "output_type": "display_data"
    },
    {
     "data": {
      "text/plain": []
     },
     "execution_count": 5,
     "metadata": {},
     "output_type": "execute_result"
    }
   ],
   "source": [
    "gr.ChatInterface(fn = chat, type = 'messages').launch()"
   ]
  },
  {
   "cell_type": "markdown",
   "id": "6a2a9f78-4bab-4356-9d51-30f79f7ba217",
   "metadata": {},
   "source": [
    "# Using Tools to give information"
   ]
  },
  {
   "cell_type": "code",
   "execution_count": 6,
   "id": "d7b0f30f-145b-4d1b-a1e6-72780447a6a2",
   "metadata": {},
   "outputs": [],
   "source": [
    "ticket_prices = {\"london\": \"$799\", \"paris\": \"$899\", \"tokyo\": \"$1400\", \"berlin\": \"$499\"}\n",
    "def get_ticket_price(destination_city):\n",
    "    print(f\"Tool get_ticket_price called for {destination_city}\")\n",
    "    city = destination_city.lower()\n",
    "    print(\"City name is\",city)\n",
    "    return ticket_prices.get(city)"
   ]
  },
  {
   "cell_type": "code",
   "execution_count": 7,
   "id": "070245ce-c3bb-408c-8f66-592ea9bed73c",
   "metadata": {},
   "outputs": [
    {
     "name": "stdout",
     "output_type": "stream",
     "text": [
      "Tool get_ticket_price called for Berlin\n",
      "City name is berlin\n"
     ]
    },
    {
     "data": {
      "text/plain": [
       "'$499'"
      ]
     },
     "execution_count": 7,
     "metadata": {},
     "output_type": "execute_result"
    }
   ],
   "source": [
    "get_ticket_price(\"Berlin\")"
   ]
  },
  {
   "cell_type": "code",
   "execution_count": 8,
   "id": "3073a6be-d560-4524-8db0-d431ef4e9760",
   "metadata": {},
   "outputs": [],
   "source": [
    "price_function = {\n",
    "    \"name\" : \"get_ticket_price\",\n",
    "    \"description\": \"Get the price of a return ticket to the destination city. Call this whenever you need to know the ticket price, for example when a customer asks 'How much is a ticket to this city'\",\n",
    "    \"parameters\": {\n",
    "        'type' : 'object',\n",
    "        'properties' : {\n",
    "            'destination_city': {\n",
    "                \"type\": \"string\",\n",
    "                \"description\": \"The city that the customer wants to travel to\",\n",
    "            },\n",
    "        },\n",
    "        'required': ['destination_city'],\n",
    "        'additional_properties': False\n",
    "    }\n",
    "}"
   ]
  },
  {
   "cell_type": "code",
   "execution_count": 9,
   "id": "9bf0230b-92be-4eb7-a5b8-4442223c92ef",
   "metadata": {},
   "outputs": [],
   "source": [
    "tools = [{'type':'function','function':price_function}]"
   ]
  },
  {
   "cell_type": "code",
   "execution_count": 10,
   "id": "8fc06bd4-be52-4b9e-a194-4f72841d374a",
   "metadata": {},
   "outputs": [],
   "source": [
    "# We have to write that function handle_tool_call:\n",
    "\n",
    "def handle_tool_call(message):\n",
    "    tool_call = message.tool_calls[0]\n",
    "    arguments = json.loads(tool_call.function.arguments)\n",
    "    city = arguments.get('destination_city')\n",
    "    price = get_ticket_price(city)\n",
    "    response = {\n",
    "        \"role\": \"tool\",\n",
    "        \"content\": json.dumps({\"destination_city\": city,\"price\": price}),\n",
    "        \"tool_call_id\": tool_call.id\n",
    "    }\n",
    "    return response, city"
   ]
  },
  {
   "cell_type": "code",
   "execution_count": 11,
   "id": "a52b450d-848b-4f5c-9a2a-9ac21cc06bdc",
   "metadata": {},
   "outputs": [],
   "source": [
    "def chat(message,history):\n",
    "    messages = [{'role':'system','content':system_message}] + history + [{'role':'user','content':message}]\n",
    "    response = llama_client.chat.completions.create(\n",
    "        model = MODEL,\n",
    "        messages = messages,\n",
    "        tools = tools\n",
    "    )\n",
    "\n",
    "    if response.choices[0].finish_reason==\"tool_calls\":\n",
    "        message = response.choices[0].message\n",
    "        response,city = handle_tool_call(message)\n",
    "        messages.append(message)\n",
    "        #print(\"Message after appending with message:\\n\",messages)\n",
    "        messages.append(response)\n",
    "        #print(\"Messages after appending response:\\n\",response)\n",
    "        response = llama_client.chat.completions.create(model=MODEL, messages=messages)\n",
    "    \n",
    "    return response.choices[0].message.content"
   ]
  },
  {
   "cell_type": "markdown",
   "id": "6a87d26f-6783-496d-975e-1fc3ad179adf",
   "metadata": {},
   "source": [
    "def chat(message, history):\n",
    "    messages = [{\"role\": \"system\", \"content\": system_message}] + history + [{\"role\": \"user\", \"content\": message}]\n",
    "    response = llama_client.chat.completions.create(model=MODEL, messages=messages, tools=tools)\n",
    "\n",
    "    if response.choices[0].finish_reason==\"tool_calls\":\n",
    "        message = response.choices[0].message\n",
    "        response, city = handle_tool_call(message)\n",
    "        messages.append(message)\n",
    "        messages.append(response)\n",
    "        response = llama_client.chat.completions.create(model=MODEL, messages=messages)\n",
    "    \n",
    "    return response.choices[0].message.content"
   ]
  },
  {
   "cell_type": "code",
   "execution_count": 12,
   "id": "fbbb4f3d-789d-496a-8362-7674f1c0dab6",
   "metadata": {},
   "outputs": [
    {
     "name": "stdout",
     "output_type": "stream",
     "text": [
      "* Running on local URL:  http://127.0.0.1:7861\n",
      "\n",
      "To create a public link, set `share=True` in `launch()`.\n"
     ]
    },
    {
     "data": {
      "text/html": [
       "<div><iframe src=\"http://127.0.0.1:7861/\" width=\"100%\" height=\"500\" allow=\"autoplay; camera; microphone; clipboard-read; clipboard-write;\" frameborder=\"0\" allowfullscreen></iframe></div>"
      ],
      "text/plain": [
       "<IPython.core.display.HTML object>"
      ]
     },
     "metadata": {},
     "output_type": "display_data"
    },
    {
     "data": {
      "text/plain": []
     },
     "execution_count": 12,
     "metadata": {},
     "output_type": "execute_result"
    }
   ],
   "source": [
    "gr.ChatInterface(fn=chat, type=\"messages\").launch()"
   ]
  },
  {
   "cell_type": "code",
   "execution_count": null,
   "id": "bec784cd-3609-4415-98d3-3d378520f68a",
   "metadata": {},
   "outputs": [],
   "source": []
  }
 ],
 "metadata": {
  "kernelspec": {
   "display_name": "Python 3 (ipykernel)",
   "language": "python",
   "name": "python3"
  },
  "language_info": {
   "codemirror_mode": {
    "name": "ipython",
    "version": 3
   },
   "file_extension": ".py",
   "mimetype": "text/x-python",
   "name": "python",
   "nbconvert_exporter": "python",
   "pygments_lexer": "ipython3",
   "version": "3.11.11"
  }
 },
 "nbformat": 4,
 "nbformat_minor": 5
}
