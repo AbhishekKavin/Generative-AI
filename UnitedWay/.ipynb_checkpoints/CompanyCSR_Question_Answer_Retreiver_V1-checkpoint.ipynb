{
 "cells": [
  {
   "cell_type": "markdown",
   "id": "c1e75cdc",
   "metadata": {},
   "source": [
    "# 📘 Company CSR Question Answer Retriever – V1\n",
    "\n",
    "This notebook builds a question-answering system over a company's CSR (Corporate Social Responsibility) PDF document using LangChain and OpenAI.\n",
    "\n",
    "### 🔧 Key Components:\n",
    "- **Document Loader:** Loads CSR PDFs using `PyPDFLoader`.\n",
    "- **Text Chunking:** Splits text into overlapping chunks using `RecursiveCharacterTextSplitter`.\n",
    "- **Embeddings:** Generates embeddings using `OpenAIEmbeddings` (e.g., `text-embedding-ada-002`).\n",
    "- **Vector Store:** Stores embeddings in a Chroma vector database.\n",
    "- **LLM Response Generation:** Uses `gpt-4o-mini` via `ChatOpenAI` to answer questions based on retrieved chunks.\n",
    "- **Custom Prompt:** Ensures grounded answers using a structured prompt template.\n",
    "\n",
    "This lightweight semantic QA pipeline enables efficient querying of long unstructured CSR reports with accurate and context-aware answers.\n"
   ]
  },
  {
   "cell_type": "code",
   "execution_count": 1,
   "id": "fd677cf6-d9d5-4b7d-ab79-814e8395cb73",
   "metadata": {},
   "outputs": [],
   "source": [
    "import numpy as np\n",
    "import pandas as pd\n",
    "import os\n",
    "from dotenv import load_dotenv\n",
    "from langchain.text_splitter import RecursiveCharacterTextSplitter\n",
    "from langchain_openai import ChatOpenAI, OpenAIEmbeddings\n",
    "from langchain_community.vectorstores import Chroma\n",
    "from langchain.prompts import ChatPromptTemplate\n",
    "from langchain_core.output_parsers import StrOutputParser\n",
    "from langchain.load import loads,dumps\n",
    "from operator import itemgetter\n",
    "from langchain_core.runnables import RunnablePassthrough\n",
    "from langchain_community.document_loaders import PyPDFLoader\n",
    "import pymupdf"
   ]
  },
  {
   "cell_type": "code",
   "execution_count": 2,
   "id": "d8edf76f-4897-43d3-9c10-74170f735ae0",
   "metadata": {},
   "outputs": [],
   "source": [
    "os.environ['LANGCHAIN_TRACING_V2'] = 'true'\n",
    "os.environ['LANGCHAIN_ENDPOINT'] = 'https://api.smith.langchain.com'"
   ]
  },
  {
   "cell_type": "code",
   "execution_count": 3,
   "id": "3da8fb24-5e35-4398-8c18-1fa5a183a673",
   "metadata": {},
   "outputs": [],
   "source": [
    "load_dotenv(override = True)\n",
    "os.environ[\"OPENAI_API_KEY\"] = os.getenv('OPENAI_API_KEY','your-key-if-not-using-env')"
   ]
  },
  {
   "cell_type": "code",
   "execution_count": 4,
   "id": "caf4e38c-52cc-4574-85ba-8b6919e969be",
   "metadata": {},
   "outputs": [],
   "source": [
    "db_name = 'vector_db'\n",
    "MODEL = \"gpt-4o-mini\""
   ]
  },
  {
   "cell_type": "code",
   "execution_count": 5,
   "id": "4db45ae8-c00c-496c-86f5-aa9b842611a4",
   "metadata": {},
   "outputs": [],
   "source": [
    "file_path = (\n",
    "    \"./Input Dataset/D4G_0.pdf\"\n",
    ")"
   ]
  },
  {
   "cell_type": "code",
   "execution_count": 6,
   "id": "1ef74ef3-7ba0-4a24-a966-4efa970ff516",
   "metadata": {},
   "outputs": [],
   "source": [
    "loader = PyPDFLoader(file_path)\n",
    "pages = []\n",
    "async for page in loader.alazy_load():\n",
    "    pages.append(page)"
   ]
  },
  {
   "cell_type": "code",
   "execution_count": 7,
   "id": "70978915-2119-4703-833f-dd27093f61fd",
   "metadata": {
    "scrolled": true
   },
   "outputs": [
    {
     "data": {
      "text/plain": [
       "[Document(metadata={'producer': 'Adobe PDF Library 16.0.7', 'creator': 'Adobe InDesign 17.2 (Macintosh)', 'creationdate': '2022-04-19T09:11:48-05:00', 'moddate': '2022-05-10T11:04:16-05:00', 'trapped': '/False', 'source': './Input Dataset/D4G_0.pdf', 'total_pages': 29, 'page': 0, 'page_label': '1'}, page_content='2021 CORPORATE SOCIAL  \\nRESPONSIBILITY REPORT'),\n",
       " Document(metadata={'producer': 'Adobe PDF Library 16.0.7', 'creator': 'Adobe InDesign 17.2 (Macintosh)', 'creationdate': '2022-04-19T09:11:48-05:00', 'moddate': '2022-05-10T11:04:16-05:00', 'trapped': '/False', 'source': './Input Dataset/D4G_0.pdf', 'total_pages': 29, 'page': 1, 'page_label': '2'}, page_content='PAGE INTENTIONALLY\\nLEFT BLANK'),\n",
       " Document(metadata={'producer': 'Adobe PDF Library 16.0.7', 'creator': 'Adobe InDesign 17.2 (Macintosh)', 'creationdate': '2022-04-19T09:11:48-05:00', 'moddate': '2022-05-10T11:04:16-05:00', 'trapped': '/False', 'source': './Input Dataset/D4G_0.pdf', 'total_pages': 29, 'page': 2, 'page_label': '1'}, page_content='Titan has over 130 years of experience in the off-highway wheel manufacturing \\nbusiness. While delivering high-quality products, we are focused on providing a \\nsafe and welcoming workplace for our employees, supporting our communities \\nand minimizing our impact on the environment.\\nBecause a majority of a tire’s environmental impact is in product use, our unique \\nposition as a complete solutions provider enables us to have a substantial effect \\non economic sectors that contribute to greenhouse gas emissions, including \\nagriculture, construction and mining. \\nThis is our inaugural report highlighting efforts in the areas of environment, social \\nand governance. This report will cover our journey to this point and will include \\ninformation from recent years. Future reports will be released every other year.\\nABOUT THIS REPORT\\n1 OVERVIEW'),\n",
       " Document(metadata={'producer': 'Adobe PDF Library 16.0.7', 'creator': 'Adobe InDesign 17.2 (Macintosh)', 'creationdate': '2022-04-19T09:11:48-05:00', 'moddate': '2022-05-10T11:04:16-05:00', 'trapped': '/False', 'source': './Input Dataset/D4G_0.pdf', 'total_pages': 29, 'page': 3, 'page_label': '2'}, page_content='OVERVIEW\\nWelcome and thank you for your interest in our first Titan corporate social responsibility report. \\nWe faced many new decisions during the past two years of this COVID-19 era. Titan is proud of the important role we played in \\ncritical infrastructure around the world during the pandemic, as our plants continued to operate safely in support of the agriculture \\nand construction industries. This “critical” designation also allowed Titan to provide continuous employment to our employee \\nfamilies and support to the local communities where we do business. Looking back, we now have an even deeper appreciation for \\nthe strength of our employees and their foundational contribution to our success. \\nDespite market conditions that were chaotic around us, our business and supply chain remained steady. Our team’s efforts and \\nresilience during a very challenging period resulted in Titan closing 2020 in a good position with strong momentum. \\nIn response, Titan also looked closely at many of our business processes, policies and activities, including the work found in this \\nreport. We learned there was room for improvement and set a plan for change. In May 2021, we became a signatory of the United \\nNations Global Compact, adopting its 10 principles on human rights, labor, the environment and anti-corruption. In addition, we \\nupdated governing documents and policies in line with these principles. \\nWe revisited our policies on encouraging workplace diversity across many perspectives, including ensuring Board of Directors \\noversight that reflected our philosophy. In March 2021, we welcomed the addition of Laura K. Thompson as our first female \\ndirector and will embrace her deep financial and business expertise established over her 35-year career with the Goodyear Tire & \\nRubber Company. \\nTitan is committed to continuous improvement to lower our impact on the environment. Whether it is creating tires that reduce \\nsoil compaction, helping our customers increase yield, closely tracking our business operations to identify ways to reduce the use \\nof harmful solvents, finding use for recycled materials or discovering new ways to design our facilities more sustainably, we are \\nmaking strides toward lessening our impact. \\nIn this inaugural report, we demonstrate that Titan is taking action by launching a dedicated portion of our investor relations \\nwebsite to Environmental, Social and Governance (ESG) and reporting how our results align with the Sustainable Accounting \\nStandards Board (SASB), as shown in a table listed at the back of this report. It is early in this journey, and increased activity and \\nreporting are on the horizon.\\nPaul G. Reitz\\nPresident and CEO\\n“TIT AN IS COMMITTED TO CONTINUOUS IMPROVEMENT \\nTO LOWER OUR IMPACT ON THE ENVIRONMENT.” \\nA MESSAGE \\nFROM OUR CEO\\n2'),\n",
       " Document(metadata={'producer': 'Adobe PDF Library 16.0.7', 'creator': 'Adobe InDesign 17.2 (Macintosh)', 'creationdate': '2022-04-19T09:11:48-05:00', 'moddate': '2022-05-10T11:04:16-05:00', 'trapped': '/False', 'source': './Input Dataset/D4G_0.pdf', 'total_pages': 29, 'page': 4, 'page_label': '3'}, page_content='RECENT HISTORY OF TITAN ACQUISITIONS\\n2005 — The Goodyear Tire & Rubber Company’s North America farm tire assets\\n2006 — Off-the-road (OTR) tire assets of Continental Tire North America\\n2011  — The Goodyear Tire & Rubber Company’s Latin America farm tire assets\\n2012  — 56% controlling interest in Planet Corporation Group, now known as Titan Australia\\n — Titan Europe PLC, which included ITM Group\\n2013/ — A noncontrolling interest in Voltyre-P rom, a leading producer of agricultural and industrial tires, which  \\n2014       owns and operates an over 2-million-square-foot manufacturing facility located in Volgograd, Russia\\n2018 — The remaining 44% interest in Titan Australia\\n2019  — An additional 21.4% interest in Voltyre-P rom (from 42.9% to 64.3%), resulting in controlling interest \\nTitan International, Inc. (NYSE: TWI) traces its roots to the Electric Wheel Company in Quincy, Illinois, which was founded in \\n1890. Now, we are a global manufacturer of off-highway wheels, tires, assemblies and undercarriages. We are dedicated to \\ndesigning and manufacturing products that meet the demanding needs of customers in the agricultural, earthmoving/construction \\nand consumer markets. We are also committed to looking out for the best interests of the environment, our employees and the \\ncommunities where we operate, and investors.\\nEMPLOYEES\\n7,500 Total number of employees*\\n3 OVERVIEW\\nGLOBAL FOOTPRINT WHEELS TIRES UNDERCARRIAGE MINING SERVICES DISTRIBUTION/SALES\\nNORTH AMERICA\\n  Quincy, IL\\n Bryan, OH\\n Des Moines, IA\\n Elkhorn, WI\\n Freeport, IL\\n  Fort McMurray, AB, Canada\\n Gillette, WY\\n Holden, WV\\n      Jefferson, GA\\n Querétaro, Mexico \\n Saskatoon, SK, Canada\\n Union City, TN\\n West Chicago, IL      \\n (Corporate Headquarters)\\n  Winston-Salem, NC\\nLATIN AMERICA/ \\nSOUTH AMERICA\\n    Atibaia, Brazil\\n    Buenos Aires, \\n         Argentina \\n    Cali, Colombia \\n    Iquique, Chile\\n/    Lima, Peru\\n    Parauapebas, Parà, \\n         Brazil \\n    São Paulo, Brazil\\n/    Santiago, Chile\\nEUROPE/RUSSIA\\n Ceprano, Italy\\n Fanano, Italy\\n Finale Emilia, Italy\\n Flers, France\\n Gevelsburg, Germany\\n Jesi, Italy\\n Kidderminster, UK\\n  Monreal del Campo, Spain\\n Potenza, Italy\\n St. Helens, UK\\n Valsamoggia, Italy\\n Volgograd, Russia\\nASIA/AFRICA \\n Aydin, Turkey\\n Heidelberg, South Africa\\n Jakarta, Indonesia\\n Luoizhou, China\\n Tianjin, China\\n Visakhapatnam, Andhra    \\n Pradesh, India\\nAUSTRALIA \\n    Emerald, QLD\\n    Mildura, VIC\\n    Muswellbrook, NSW\\n   /    Perth, WA\\n    Sydney, NSW\\n/    Yatala, QLD\\n*Effective as of December 31, 2021.\\nGLOBAL FOOTPRINT WHEELS TIRES UNDERCARRIAGE MINING SERVICES DISTRIBUTION/SALES\\nNORTH AMERICA\\n  Quincy, IL\\n Bryan, OH\\n Des Moines, IA\\n Elkhorn, WI\\n Freeport, IL\\n  Fort McMurray, AB, Canada\\n Gillette, WY\\n Holden, WV\\n      Jefferson, GA\\n Querétaro, Mexico \\n Saskatoon, SK, Canada\\n Union City, TN\\n West Chicago, IL      \\n (Corporate Headquarters)\\n  Winston-Salem, NC\\nLATIN AMERICA/ \\nSOUTH AMERICA\\n    Atibaia, Brazil\\n    Buenos Aires, \\n         Argentina \\n    Cali, Colombia \\n    Iquique, Chile\\n/    Lima, Peru\\n    Parauapebas, Parà, \\n         Brazil \\n    São Paulo, Brazil\\n/    Santiago, Chile\\nEUROPE/RUSSIA\\n Ceprano, Italy\\n Fanano, Italy\\n Finale Emilia, Italy\\n Flers, France\\n Gevelsburg, Germany\\n Jesi, Italy\\n Kidderminster, UK\\n  Monreal del Campo, Spain\\n Potenza, Italy\\n St. Helens, UK\\n Valsamoggia, Italy\\n Volgograd, Russia\\nASIA/AFRICA \\n Aydin, Turkey\\n Heidelberg, South Africa\\n Jakarta, Indonesia\\n Luoizhou, China\\n Tianjin, China\\n Visakhapatnam, Andhra    \\n Pradesh, India\\nAUSTRALIA \\n    Emerald, QLD\\n    Mildura, VIC\\n    Muswellbrook, NSW\\n   /    Perth, WA\\n    Sydney, NSW\\n/    Yatala, QLD\\nGLOBAL FOOTPRINT WHEELS TIRES UNDERCARRIAGE MINING SERVICES DISTRIBUTION/SALES\\nNORTH AMERICA\\n  Quincy, IL\\n Bryan, OH\\n Des Moines, IA\\n Elkhorn, WI\\n Freeport, IL\\n  Fort McMurray, AB, Canada\\n Gillette, WY\\n Holden, WV\\n      Jefferson, GA\\n Querétaro, Mexico \\n Saskatoon, SK, Canada\\n Union City, TN\\n West Chicago, IL      \\n (Corporate Headquarters)\\n  Winston-Salem, NC\\nLATIN AMERICA/ \\nSOUTH AMERICA\\n    Atibaia, Brazil\\n    Buenos Aires, \\n         Argentina \\n    Cali, Colombia \\n    Iquique, Chile\\n/    Lima, Peru\\n    Parauapebas, Parà, \\n         Brazil \\n    São Paulo, Brazil\\n/    Santiago, Chile\\nEUROPE/RUSSIA\\n Ceprano, Italy\\n Fanano, Italy\\n Finale Emilia, Italy\\n Flers, France\\n Gevelsburg, Germany\\n Jesi, Italy\\n Kidderminster, UK\\n  Monreal del Campo, Spain\\n Potenza, Italy\\n St. Helens, UK\\n Valsamoggia, Italy\\n Volgograd, Russia\\nASIA/AFRICA \\n Aydin, Turkey\\n Heidelberg, South Africa\\n Jakarta, Indonesia\\n Luoizhou, China\\n Tianjin, China\\n Visakhapatnam, Andhra    \\n Pradesh, India\\nAUSTRALIA \\n    Emerald, QLD\\n    Mildura, VIC\\n    Muswellbrook, NSW\\n   /    Perth, WA\\n    Sydney, NSW\\n/    Yatala, QLD\\nGLOBAL FOOTPRINT WHEELS TIRES UNDERCARRIAGE MINING SERVICES DISTRIBUTION/SALES\\nNORTH AMERICA\\n  Quincy, IL\\n Bryan, OH\\n Des Moines, IA\\n Elkhorn, WI\\n Freeport, IL\\n  Fort McMurray, AB, Canada\\n Gillette, WY\\n Holden, WV\\n      Jefferson, GA\\n Querétaro, Mexico \\n Saskatoon, SK, Canada\\n Union City, TN\\n West Chicago, IL      \\n (Corporate Headquarters)\\n  Winston-Salem, NC\\nLATIN AMERICA/ \\nSOUTH AMERICA\\n    Atibaia, Brazil\\n    Buenos Aires, \\n         Argentina \\n    Cali, Colombia \\n    Iquique, Chile\\n/    Lima, Peru\\n    Parauapebas, Parà, \\n         Brazil \\n    São Paulo, Brazil\\n/    Santiago, Chile\\nEUROPE/RUSSIA\\n Ceprano, Italy\\n Fanano, Italy\\n Finale Emilia, Italy\\n Flers, France\\n Gevelsburg, Germany\\n Jesi, Italy\\n Kidderminster, UK\\n  Monreal del Campo, Spain\\n Potenza, Italy\\n St. Helens, UK\\n Valsamoggia, Italy\\n Volgograd, Russia\\nASIA/AFRICA \\n Aydin, Turkey\\n Heidelberg, South Africa\\n Jakarta, Indonesia\\n Luoizhou, China\\n Tianjin, China\\n Visakhapatnam, Andhra    \\n Pradesh, India\\nAUSTRALIA \\n    Emerald, QLD\\n    Mildura, VIC\\n    Muswellbrook, NSW\\n   /    Perth, WA\\n    Sydney, NSW\\n/    Yatala, QLD\\nGLOBAL FOOTPRINT WHEELS TIRES UNDERCARRIAGE MINING SERVICES DISTRIBUTION/SALES\\nNORTH AMERICA\\n  Quincy, IL\\n Bryan, OH\\n Des Moines, IA\\n Elkhorn, WI\\n Freeport, IL\\n  Fort McMurray, AB, Canada\\n Gillette, WY\\n Holden, WV\\n      Jefferson, GA\\n Querétaro, Mexico \\n Saskatoon, SK, Canada\\n Union City, TN\\n West Chicago, IL      \\n (Corporate Headquarters)\\n  Winston-Salem, NC\\nLATIN AMERICA/ \\nSOUTH AMERICA\\n    Atibaia, Brazil\\n    Buenos Aires, \\n         Argentina \\n    Cali, Colombia \\n    Iquique, Chile\\n/    Lima, Peru\\n    Parauapebas, Parà, \\n         Brazil \\n    São Paulo, Brazil\\n/    Santiago, Chile\\nEUROPE/RUSSIA\\n Ceprano, Italy\\n Fanano, Italy\\n Finale Emilia, Italy\\n Flers, France\\n Gevelsburg, Germany\\n Jesi, Italy\\n Kidderminster, UK\\n  Monreal del Campo, Spain\\n Potenza, Italy\\n St. Helens, UK\\n Valsamoggia, Italy\\n Volgograd, Russia\\nASIA/AFRICA \\n Aydin, Turkey\\n Heidelberg, South Africa\\n Jakarta, Indonesia\\n Luoizhou, China\\n Tianjin, China\\n Visakhapatnam, Andhra    \\n Pradesh, India\\nAUSTRALIA \\n    Emerald, QLD\\n    Mildura, VIC\\n    Muswellbrook, NSW\\n   /    Perth, WA\\n    Sydney, NSW\\n/    Yatala, QLD\\nGLOBAL FOOTPRINT WHEELS TIRES UNDERCARRIAGE MINING SERVICES DISTRIBUTION/SALES\\nNORTH AMERICA\\n  Quincy, IL\\n Bryan, OH\\n Des Moines, IA\\n Elkhorn, WI\\n Freeport, IL\\n  Fort McMurray, AB, Canada\\n Gillette, WY\\n Holden, WV\\n      Jefferson, GA\\n Querétaro, Mexico \\n Saskatoon, SK, Canada\\n Union City, TN\\n West Chicago, IL      \\n (Corporate Headquarters)\\n  Winston-Salem, NC\\nLATIN AMERICA/ \\nSOUTH AMERICA\\n    Atibaia, Brazil\\n    Buenos Aires, \\n         Argentina \\n    Cali, Colombia \\n    Iquique, Chile\\n/    Lima, Peru\\n    Parauapebas, Parà, \\n         Brazil \\n    São Paulo, Brazil\\n/    Santiago, Chile\\nEUROPE/RUSSIA\\n Ceprano, Italy\\n Fanano, Italy\\n Finale Emilia, Italy\\n Flers, France\\n Gevelsburg, Germany\\n Jesi, Italy\\n Kidderminster, UK\\n  Monreal del Campo, Spain\\n Potenza, Italy\\n St. Helens, UK\\n Valsamoggia, Italy\\n Volgograd, Russia\\nASIA/AFRICA \\n Aydin, Turkey\\n Heidelberg, South Africa\\n Jakarta, Indonesia\\n Luoizhou, China\\n Tianjin, China\\n Visakhapatnam, Andhra    \\n Pradesh, India\\nAUSTRALIA \\n    Emerald, QLD\\n    Mildura, VIC\\n    Muswellbrook, NSW\\n   /    Perth, WA\\n    Sydney, NSW\\n/    Yatala, QLD\\nGLOBAL FOOTPRINT WHEELS TIRES UNDERCARRIAGE MINING SERVICES DISTRIBUTION/SALES\\nNORTH AMERICA\\n  Quincy, IL\\n Bryan, OH\\n Des Moines, IA\\n Elkhorn, WI\\n Freeport, IL\\n  Fort McMurray, AB, Canada\\n Gillette, WY\\n Holden, WV\\n      Jefferson, GA\\n Querétaro, Mexico \\n Saskatoon, SK, Canada\\n Union City, TN\\n West Chicago, IL      \\n (Corporate Headquarters)\\n  Winston-Salem, NC\\nLATIN AMERICA/ \\nSOUTH AMERICA\\n    Atibaia, Brazil\\n    Buenos Aires, \\n         Argentina \\n    Cali, Colombia \\n    Iquique, Chile\\n/    Lima, Peru\\n    Parauapebas, Parà, \\n         Brazil \\n    São Paulo, Brazil\\n/    Santiago, Chile\\nEUROPE/RUSSIA\\n Ceprano, Italy\\n Fanano, Italy\\n Finale Emilia, Italy\\n Flers, France\\n Gevelsburg, Germany\\n Jesi, Italy\\n Kidderminster, UK\\n  Monreal del Campo, Spain\\n Potenza, Italy\\n St. Helens, UK\\n Valsamoggia, Italy\\n Volgograd, Russia\\nASIA/AFRICA \\n Aydin, Turkey\\n Heidelberg, South Africa\\n Jakarta, Indonesia\\n Luoizhou, China\\n Tianjin, China\\n Visakhapatnam, Andhra    \\n Pradesh, India\\nAUSTRALIA \\n    Emerald, QLD\\n    Mildura, VIC\\n    Muswellbrook, NSW\\n   /    Perth, WA\\n    Sydney, NSW\\n/    Yatala, QLD\\n*'),\n",
       " Document(metadata={'producer': 'Adobe PDF Library 16.0.7', 'creator': 'Adobe InDesign 17.2 (Macintosh)', 'creationdate': '2022-04-19T09:11:48-05:00', 'moddate': '2022-05-10T11:04:16-05:00', 'trapped': '/False', 'source': './Input Dataset/D4G_0.pdf', 'total_pages': 29, 'page': 5, 'page_label': '4'}, page_content='4 OVERVIEW\\nNEW AND REVISED POLICIES\\nWe’ve made significant progress on environmental, social and governance (ESG) efforts by creating and updating enterprise  \\nwide policies: Human Rights, Labor Management, Occupational Health & Safety, Diversity & Inclusion, Environmental,  \\nand Conflict Minerals Policies.  \\nIMPROVED MONITORING\\nWe have Environmental Management Systems (EMS) in place monitoring operational energy consumption, waste \\nmanagement, pollution prevention, and emission control. Additionally, 52% of our locations are certified to ISO 14001, the \\ninternational standard for environmental management. \\nINTERNATIONAL PARTNERSHIPS\\nIn 2021, Titan solidified these values with a signature to the United Nations Global Compact containing principles \\nfocused on human rights, labor, the environment, and anti-corruption. \\nTitan is committed to being a positive force in the lives of our employees and customers and in \\nthe communities where we work and live. \\nTitan’s strong commitment to ESG\\nTITAN INTERNATIONAL OVERVIEW: ESG\\nEnvironmental Social Governance\\nTitan is developing a life cycle assessment (LCA) \\nto enhance the new product development  \\nprocess. Initial implementation will be with  \\nthe North America tire division with plans to \\nexpand across other divisions\\nPolicies supporting diversity and \\ninclusion, including Board commitment  \\nto increase diversity\\nIncreased Board diversity in 2021\\nActively developing environmental \\npolicies and guidelines\\nCommitted to make diversity a focus in \\nrecruitment process\\nHighly independent Board; all committee \\nchairs independent\\nCommitted to responsible sourcing and \\nkeeping our supply chain free of \\nconflict minerals \\nActively implementing policies and \\nprograms focused on employee health \\nand safety, labor management and \\nhuman rights\\nNominating committee charter amended \\nto include social oversight\\nCommitted to protecting the environment \\non both the individual employee level and \\nthe organizational level where practical\\nBecame a signatory to UN Global \\nCompact in 2021\\nSeparate Chairman of the Board \\nand CEO roles'),\n",
       " Document(metadata={'producer': 'Adobe PDF Library 16.0.7', 'creator': 'Adobe InDesign 17.2 (Macintosh)', 'creationdate': '2022-04-19T09:11:48-05:00', 'moddate': '2022-05-10T11:04:16-05:00', 'trapped': '/False', 'source': './Input Dataset/D4G_0.pdf', 'total_pages': 29, 'page': 6, 'page_label': '5'}, page_content='ENVIRONMENTAL\\n5'),\n",
       " Document(metadata={'producer': 'Adobe PDF Library 16.0.7', 'creator': 'Adobe InDesign 17.2 (Macintosh)', 'creationdate': '2022-04-19T09:11:48-05:00', 'moddate': '2022-05-10T11:04:16-05:00', 'trapped': '/False', 'source': './Input Dataset/D4G_0.pdf', 'total_pages': 29, 'page': 7, 'page_label': '6'}, page_content='6 ENVIRONMENTAL\\nENVIRONMENTAL\\nThe protection of the environment is a core value at Titan. We \\nare dedicated to the continual improvement of environmental \\nperformance of our global operations and to reducing or eliminating, \\nwherever practical, adverse environmental impacts through proper \\nenergy management, waste reduction, recycling/reuse, pollution \\nprevention and emissions control.'),\n",
       " Document(metadata={'producer': 'Adobe PDF Library 16.0.7', 'creator': 'Adobe InDesign 17.2 (Macintosh)', 'creationdate': '2022-04-19T09:11:48-05:00', 'moddate': '2022-05-10T11:04:16-05:00', 'trapped': '/False', 'source': './Input Dataset/D4G_0.pdf', 'total_pages': 29, 'page': 8, 'page_label': '7'}, page_content=\"ENVIRONMENTAL\\nCLEANER PERFORMANCE\\nProtecting the environment is a core value at Titan, and we are dedicated to the continual \\nimprovement of the environmental performance of our global operations.\\nAs part of this commitment, Titan has Environmental Management Systems in place, which \\ninclude environmental monitoring across our global operations. Our systems monitor and track \\nenergy consumption, waste management, pollution prevention, emissions control and overall \\nenvironmental health throughout our footprint, which enables us to measure and continuously \\nimprove environmental performance. We also conduct routine internal environmental assessment \\naudits at our facilities. Currently 15 of our locations are ISO 14001 certified, making up 52% of our \\nfacility footprint. We continue to strive for efficiency and operational improvements to lessen our \\nimpact on the environment.\\nLooking forward, Titan will work with our global business units to collect data on environmental practices aligning with the \\nSustainable Accounting Standards Board (SASB) framework. Please refer to the SASB table found at the end of this report.\\nECO DESIGN\\nOur commitment to sustainability extends across our operations, from the products we design to efficiency in our manufacturing \\nprocess. We continuously seek to reduce our impact on the environment by adopting eco-design principles.\\nWHEELS\\nAs modern agriculture equipment continues to increase in size and weight, wheel design becomes increasingly important. \\nIt's the reason we work side by side with original equipment manufacturers (OEMs) to develop innovative solutions for \\na variety of agriculture, construction, forestry and mining equipment. Wheel designs and their associated weight have a \\ndirect impact on the overall performance, fuel efficiency and longevity of the machine. Part of that collaborative effort is \\nto meet the design, strength and sustainability goals for both Titan and the OEMs, who are interested not only in utilizing \\neco-friendly processes, but in improving equipment performance.\\n7\"),\n",
       " Document(metadata={'producer': 'Adobe PDF Library 16.0.7', 'creator': 'Adobe InDesign 17.2 (Macintosh)', 'creationdate': '2022-04-19T09:11:48-05:00', 'moddate': '2022-05-10T11:04:16-05:00', 'trapped': '/False', 'source': './Input Dataset/D4G_0.pdf', 'total_pages': 29, 'page': 9, 'page_label': '8'}, page_content='8 ENVIRONMENTAL\\nTitan has been powder coating all our earthmover and construction wheel \\nloose components since 1993 to enhance product longevity with corrosion \\nresistance and anti-chipping properties. In 2002, Titan transitioned \\nto waterborne paint technology for all of our agricultural wheels. This \\nconscientious change removed the need for solvents with high volatile \\norganic compounds (VOC) concentration from all of our wheel factories. The \\nswitch offers superior quality while significantly reducing hazardous waste \\nand air pollutants. Since 2007, the powder coat process has been expanded \\nto include all of our small and medium-sized agricultural wheels, and in \\n2012 a new state-of-the-art powder coat facility was built for finishing large agricultural wheels. Our current waterborne  \\nurethane and powder production paints do not require solvents in their application, and powder coating decreases  \\nremnant paint waste. \\nWe also inspect circumferential weld joints using X-ray and ultrasound systems prior to applying paint. These steps \\nhelp to ensure we are producing the highest-quality wheels to hold up to the harsh working environments and rigorous \\napplications for our customers, regardless of distribution channel.\\nThe energy used to produce steel wheels creates significantly less carbon dioxide emissions than producing a comparable \\nset of aluminum wheels. Titan purchases a significant amount of the steel it consumes from mini mills that are using \\nmostly recycled steel material versus integrated mills that produce steel from raw iron ore. Although there are some \\nOEMs looking into aluminum wheel options, we believe that steel wheel production is the more energy-efficient, eco-\\nfriendly option with simpler and less energy-intensive recycling options at the end of a product’s life cycle.\\nWe are committed to advancing our design and production methods while keeping our customers’ needs in mind. We \\nbelieve we can achieve our sustainability goals and continue to support our customers with durable and high-quality \\nproducts that withstand the harsh conditions of the agriculture, construction, forestry and mining industries. \\nTIRES\\nBeginning in 2009, Titan has aimed to stay one step ahead in eco-design and compliance \\nby eliminating any potential problematic chemicals in our rubber compounds. Further, Titan \\nincorporates recycled ground rubber in the rubber compounds used in our tires. In 2021, 3.3 \\nmillion pounds of ground rubber were used in our Union City, Tenn., facility and distributed to \\nall three of our North American plants.\\nEnvironmental and social gains can go beyond tire production as well. One example is our \\nLow Sidewall Technology\\n® (LSW®) tires, where the assembly features a smaller tire sidewall \\nand larger wheel. LSW significantly reduces power hop, road lope and soil compaction, \\nwhich improves safety and equipment performance. LSW tires allow for the tractor to carry \\nthe same weight at 40% lower inflation pressures than a standard tire, significantly reducing soil compaction, which can \\npotentially result in greater crop yields. When there is less soil compaction, the end-user farmers become better stewards \\nof the land because they can implement lessened deep tillage during field preparations which also reduces fuel and energy \\nuse. See page 10 for further information. \\nIn 2021, we released our AgraEDGE™ tire line, which reduced tire weight by 7% compared to previous models. This full-\\nline tire offering was released to replace old models, with Titan expecting to reduce materials used by 1.1 million pounds \\nannually. The success has prompted additional product evaluation in other tire lines.'),\n",
       " Document(metadata={'producer': 'Adobe PDF Library 16.0.7', 'creator': 'Adobe InDesign 17.2 (Macintosh)', 'creationdate': '2022-04-19T09:11:48-05:00', 'moddate': '2022-05-10T11:04:16-05:00', 'trapped': '/False', 'source': './Input Dataset/D4G_0.pdf', 'total_pages': 29, 'page': 10, 'page_label': '9'}, page_content='The North American tire product development and strategy team is also creating a life cycle assessment process to evaluate \\nnew products prior to market launch. The life cycle assessment takes into consideration Titan’s commitment to sustainability \\nacross multiple criteria throughout the product development process, from idea and product inception to production and product \\nrelease. In the early stages of product development, a new product proposal is written and a reduction in environmental impact \\ncompared to the current product the new tire may replace will be evaluated. The importance for that same impact will also be \\nreviewed for both new tire lines and tire line expansions. Within the new product proposal there will be sustainability criteria \\nthat will each have ratings assigned and assessed. These criteria will fall into the following categories: 1) product weight and \\nlongevity; 2) fuel consumption and soil compaction; 3) recycled materials use and recyclability of product; 4) ride comfort, \\nsafety and potential noise reduction.\\nUNDERCARRIAGES\\nThrough continuous product development and customer support, ITM, a Titan \\nsubsidiary, produces undercarriages that perform in extreme, severe conditions. \\nITM is in the process of certifying its Energy Management System according to \\nthe ISO 50001: 2018 Standard.\\nSince 2002, ITM has been utilizing a biodegradable lubricant in large and \\nmedium-size rollers. Because it is biodegradable, it does not permanently \\ncontaminate the soil if there is a leakage in the field. ITM continues to test \\nalternative lubricant solutions to improve the performance of the product  \\nwhile limiting soil contamination.\\nSince 2004, ITM has been using microalloyed steel in shaft production for idlers and rollers. The chemical composition of this \\nsteel guarantees the required mechanical properties without the traditional quench and temper process. This translates into \\nsignificantly lower energy consumption and gas emissions. ITM’s engineering team is currently evaluating whether to expand the \\nuse of this steel to other components and looking at the potential of new types of microalloyed steel that would require no heat \\ntreatment, thus reducing energy consumption and gas emissions even further.\\n •  In our Brazil plant, ITM utilizes a direct quenching process on most of the components. This eliminates one heating step and \\nthe resulting energy usage and gas emissions.\\n •  In 2020, ITM joined IMDS® (International Material Data System). This database allows the traceability of materials used by \\nthe automotive industry.\\n •  For paver and milling frames, ITM is mainly applying track shoes with so-called “Bolt on P ads.” These kind of rubber and \\npolyurethane coated track shoes allow the reuse of the main steel plate, reducing steel waste by more than 80%.\\nA Corporate Social Responsibility report specific to ITM is planned for release later this year.\\nENVIRONMENTAL\\nSee our annual report for additional  \\nplant-level environmental efforts.\\n9'),\n",
       " Document(metadata={'producer': 'Adobe PDF Library 16.0.7', 'creator': 'Adobe InDesign 17.2 (Macintosh)', 'creationdate': '2022-04-19T09:11:48-05:00', 'moddate': '2022-05-10T11:04:16-05:00', 'trapped': '/False', 'source': './Input Dataset/D4G_0.pdf', 'total_pages': 29, 'page': 11, 'page_label': '10'}, page_content='CONNECTION BETWEEN COMPACTION AND CARBON\\nTilling, in which soil is turned to prepare for planting, releases \\ncarbon from the ground and results in increased carbon dioxide \\nemissions. The more soil is compacted, the greater the need for \\ntillage. Thus, by reducing soil compaction, farmers can reduce \\ncarbon emissions. Our Low Sidewall Technology (LSW) Tires can \\nsignificantly reduce compaction, the need for tillage, and thereby \\n— carbon emissions.\\nTHE PINCH ROW COMPACTION PROBLEM\\nEstimates show that up to 80% of total compaction is caused by the tractor. Pinch row soil compaction is a result of running \\nstandard dual tire setups that are commonly installed on new equipment. The pressure of the narrow duals causes rutting \\nbetween the tires, and over time, that problem is only compounded with every pass across the field.\\nTHE TITAN SOLUTION — LSW SUPER SINGLES\\nBy switching to our exclusive LSW tires in Super Single sizes, the weight of the tractor is spread over a larger footprint and \\nat a lower ground-bearing pressure, thereby reducing compaction, the need for tillage, and ultimately — carbon emissions.\\n10 ENVIRONMENTAL\\n▲ NARROW DUALS\\n480/80R50 duals on the rear and \\n420/85R34 duals on the front \\nresults in the following:\\n• Total contact area: 2,488 in\\n2\\n• 26 psi rear/20 psi front\\n▲ GOODYEAR SUPER SINGLES\\nGoodyear LSW1100/45R46 singles on \\nthe rear and LSW1000/40R32 singles \\non the front results in the following:\\n•  Total contact area: 3,652 in 2  \\n(30% improvement)\\n• 15 psi rear/12 psi front\\n▲  D UAL SETUP \\nCOMPACTION\\n▲  COMPOUNDED  \\nCOMPACTION OVER TIME\\n▲  SUPER SINGLE  \\nSETUP COMPACTION'),\n",
       " Document(metadata={'producer': 'Adobe PDF Library 16.0.7', 'creator': 'Adobe InDesign 17.2 (Macintosh)', 'creationdate': '2022-04-19T09:11:48-05:00', 'moddate': '2022-05-10T11:04:16-05:00', 'trapped': '/False', 'source': './Input Dataset/D4G_0.pdf', 'total_pages': 29, 'page': 12, 'page_label': '11'}, page_content='11 ENVIRONMENTAL\\nTIRES VS. TRACKS: THE CHOICE IS CLEAR\\nMany farmers believe track machines are the best option for reduction of soil compaction and are willing to pay as much as \\n$100,000 more for a track machine as compared to a wheeled machine. With the introduction of our LSW1400/30R46 — the \\nworld’s largest farm tire — Titan now offers a tire that can compete at a fraction of the cost and with significant environmental \\nbenefits. Let’s take a look.\\nFUEL SA VINGS \\n▲ 15%  WITH LSW1400/30R46 \\nSOIL COMPACTION\\nTitan also conducted a test comparing the ground-bearing \\npressure of the LSW1400 tires on a John Deere 9620R versus \\na John Deere 9RX track machine, using Tekscan™ pressure \\nmapping technology to record more than 100,000 data points \\non the two machines.\\nTitan found the ground-bearing pressure with the LSW1400s \\nwas an average of 16% lower than tracks, with the tire’s \\nmaximum recorded pressure being 38% lower than the maximum \\npressure of tracks, demonstrating that LSW1400 tires may have \\nsoil compaction benefits versus tracks.\\nTIRES VS. TRACKS FIELD TEST\\nScan the QR code to watch as we put a John Deere 9RX track machine head to head with a John Deere 9620R featuring  \\nour LSW1400 tires.\\nLSW 1400/30R46\\nON JOHN DEERE 9620R\\nJOHN DEERE 9RX\\nTRACK FOOTPRINT'),\n",
       " Document(metadata={'producer': 'Adobe PDF Library 16.0.7', 'creator': 'Adobe InDesign 17.2 (Macintosh)', 'creationdate': '2022-04-19T09:11:48-05:00', 'moddate': '2022-05-10T11:04:16-05:00', 'trapped': '/False', 'source': './Input Dataset/D4G_0.pdf', 'total_pages': 29, 'page': 13, 'page_label': '12'}, page_content='The lifespan of a product is a major factor in its environmental impact. The longer our tires last, the less of an impact we make. In \\nthis regard, Titan has some major advantages versus competitors.\\nWIDER WHEEL PROLONGS LIFE BY 150%\\nAs a manufacturer of both wheels and tires, Titan is able to innovate in ways our competitors can’t. In testing the impact of \\na wider 25-inch wheel compared to the standard 23-inch wide wheel in a VF710/70R42 tire, we proved that we can prolong \\ntire life by 150%.\\nFORESTRY TIRES THAT LAST 2-3x LONGER\\nIn partnership with a Louisiana tire dealer, Titan conducted field testing of our Goodyear® Logger Lug tires against competitors \\nincluding Maxam, Primex and Firestone at a single test site for apples-to-apples comparison of tire performance in a consistent \\nwork environment. All calculations are based on a 6,000-hour timeframe.\\nSTUBBLE-RESISTANT TIRES\\nInnovations that prolong tire life are nothing new to Titan. For more than a decade, we’ve been leading the way in compound \\nformulations that protect against damage from today’s tougher corn hybrid stalks and dramatically increase the lifespan of tires.\\n0 50 100\\nTest Wheel Hours\\n150\\n23”\\nVF710/70R42 Wheel Width T est\\n25”\\n23\" width\\n25\" wide wheel width +150% TIRE \\nLONGEVITY\\n12 ENVIRONMENTAL\\nGOODYEAR TIRES  \\nLASTED ON A VERAGE\\n2-3x LONGER\\nCOMPETITOR TIRES \\nREQUIRED ANYWHERE FROM\\n3-5x MORE  \\nSERVICE CALLS\\nSTANDARD PLANTER TIRE \\nUsed to plant 2,139 acres  \\nSignificant visible damage  \\n6 flat repairs in one season\\nTITAN STUBBLE GUARD TIRE \\nUsed to plant 2,307 acres  \\nNo visible damage  \\nNo flat repairs'),\n",
       " Document(metadata={'producer': 'Adobe PDF Library 16.0.7', 'creator': 'Adobe InDesign 17.2 (Macintosh)', 'creationdate': '2022-04-19T09:11:48-05:00', 'moddate': '2022-05-10T11:04:16-05:00', 'trapped': '/False', 'source': './Input Dataset/D4G_0.pdf', 'total_pages': 29, 'page': 14, 'page_label': '13'}, page_content='SOCIAL\\nWe are more than just a business. We are members of the \\ncommunities that we live and operate in. And as such, we dedicate \\nour time and effort to organizations and projects that strive to \\nmake a positive contribution in those communities. Our staff has \\nvolunteered their time over the years to make an impact and we will \\ncontinue to do so in the years ahead.\\n13 SOCIAL'),\n",
       " Document(metadata={'producer': 'Adobe PDF Library 16.0.7', 'creator': 'Adobe InDesign 17.2 (Macintosh)', 'creationdate': '2022-04-19T09:11:48-05:00', 'moddate': '2022-05-10T11:04:16-05:00', 'trapped': '/False', 'source': './Input Dataset/D4G_0.pdf', 'total_pages': 29, 'page': 15, 'page_label': '14'}, page_content='14 SOCIAL'),\n",
       " Document(metadata={'producer': 'Adobe PDF Library 16.0.7', 'creator': 'Adobe InDesign 17.2 (Macintosh)', 'creationdate': '2022-04-19T09:11:48-05:00', 'moddate': '2022-05-10T11:04:16-05:00', 'trapped': '/False', 'source': './Input Dataset/D4G_0.pdf', 'total_pages': 29, 'page': 16, 'page_label': '15'}, page_content='Titan’s ability to stay in business for over 130 years is inherently tied to our values of providing dependable \\nproducts to our consumers, treating every employee with respect and dignity and investing in our workforce.\\nTitan has worked to update or add a series of policies to underscore our alignment with the United Nations Global Compact:\\nBENEFITS LEADERSHIP\\nWe aim to have one of the strongest benefits packages in the industry. Full-time Titan employees are eligible for medical, dental, \\nvision and retirement plans; life and disability insurance; and employee discounts.  \\nFREE DOCTOR VISITS\\nOne of our most distinctive offerings is the Titan Family Wellness Center in Quincy, which provides employees visits to a doctor \\ndedicated solely to their treatment and care — free of charge. In 2019, we expanded the reach of this service for full-time employees \\nby partnering with Blessings Health System, whose Be Well at Work program includes three clinics that also have exercise facilities.\\nTUITION ASSISTANCE\\nWe offer employee growth opportunities with an undergraduate tuition assistance program and through training and development.\\nEMPLOYEE ENGAGEMENT\\nWe hold regular town hall meetings with employees to provide an open and frequent line of communication. \\nEMPLOYEE SAFETY TRAINING\\nSafety has always been a priority at Titan and continues to be an incredibly important employee training initiative throughout all of \\nour global operations. Safety awareness training and reducing stress-related absences has led to increased production levels and \\nimproved mental health of our employees across the organization.\\n • HUMAN RIGHTS POLICY\\n • LABOR MANAGEMENT P OLICY\\n • OCCUPATIONAL HEALTH & SAFETY POLICY\\n • DIVERSITY & INCLUSION POLICY\\n • ENVIRONMENT AL POLICY\\n • CONFLICT MINERALS POLICY\\n15 SOCIAL'),\n",
       " Document(metadata={'producer': 'Adobe PDF Library 16.0.7', 'creator': 'Adobe InDesign 17.2 (Macintosh)', 'creationdate': '2022-04-19T09:11:48-05:00', 'moddate': '2022-05-10T11:04:16-05:00', 'trapped': '/False', 'source': './Input Dataset/D4G_0.pdf', 'total_pages': 29, 'page': 17, 'page_label': '16'}, page_content='16 SOCIAL\\nCUSTOMER OPERATOR WORKING CONDITIONS\\nAt Titan, we haven’t forgotten about the people who get the job done and keep the world moving everyday — farmers. There \\nare several Titan technologies and products that enhance the working conditions of our end-user customers. First, tires designed \\nwith our LSW Technology improve a user’s safety and comfort by reducing road lope and power hop. Smoother transport and \\ndampened recoil not only improve driver comfort, but also increase safety, keeping tires on the ground in the control of the \\noperator. Second, farmers will also find improved conditions resulting from the innovative hybrid tread design of the Goodyear \\nR14T, made by Titan. In transport mode on hard surfaces, vibration is reduced compared with both R-1 and R-4 designs, thanks to \\nthe interlocking center tread blocks. In muddy soil conditions, the R14T retains excellent traction characteristics, as the high void \\noutside edges provide excellent clean-out. Both tire technologies improve the working conditions of our customers.\\nDIVERSITY AND INCLUSION\\nTitan is committed to increasing our diversity, and we have undertaken efforts to identify diverse talent. Consistent with the \\nindustry, our workforce has historically been male dominated; however, we are making strides in increasing gender diversity in \\nvarious regions worldwide, and we’re proud to highlight that three of our business units are led by women.\\nWOMEN-LED BUSINESS UNITS\\nWe\\'re proud that three of our business units are  \\nled by women, including Aros De Pacifico S.A., \\nVoltyre-Prom and Italtractor ITM SpA Group. \\nIncluding the women shown on the right, there are \\nnearly 40 women in key leadership positions across \\nour Titan global entities.\\nCOVID-19 RESPONSE\\nSince the start of the pandemic, Titan has operated with the twin goals \\nof keeping our employees safe and providing farmers and construction \\nprofessionals with products they need to perform their essential work. Early in \\nthe pandemic, the U.S. Department of Homeland Security issued guidelines on \\nworkers who should keep normal schedules because they were in a \"critical \\ninfrastructure industry\" affecting public health and safety, the economy and \\nnational security. That included employees engaged in the manufacture and \\nmaintenance of equipment and other infrastructure necessary to agricultural \\nproduction and distribution. \\nOur plants have remained operational, and our Coronavirus Response Team \\nhas developed safety plans that include a quick and easy health screening \\nemployees take before coming to work, temperature checks, enhanced cleaning \\nand additional precautions as recommended by the World Health Organization, \\nCenters for Disease Control and Prevention and local governments. \\nIn early 2021, we worked with health professionals in Illinois and Iowa to \\noffer vaccinations free of charge to employees in our Quincy, Freeport and \\nDes Moines locations. We have also worked with local health organizations \\nto set up vaccination clinics at other locations across our global footprint.\\nDAFNE ROJAS \\nCommercial Director \\nAros del Pacifico S.A.\\nOLGA SHILINA \\nGeneral Manager \\nVoltyre-Prom\\nCECILIA LA MANNA \\nChief Executive Officer \\nItaltractor ITM SpA Group'),\n",
       " Document(metadata={'producer': 'Adobe PDF Library 16.0.7', 'creator': 'Adobe InDesign 17.2 (Macintosh)', 'creationdate': '2022-04-19T09:11:48-05:00', 'moddate': '2022-05-10T11:04:16-05:00', 'trapped': '/False', 'source': './Input Dataset/D4G_0.pdf', 'total_pages': 29, 'page': 18, 'page_label': '17'}, page_content='ANTIQUE TRACTOR RESTORATION PROGRAM \\nWe’re proud to support the National FFA Organization (FFA), 4-H and \\nthe restoration of antique tractors. Members of FFA or 4-H can register \\nto qualify for a donation of front and rear Titan or Goodyear Farm Tire \\nbranded antique tractor tires. \\nWe feel there is nothing more important than supporting the future \\nof agriculture — the young men and women who will carry on this \\ncountry’s proud farming legacy. That is why we have awarded thousands \\nof free tires to student-led tractor restorations every year since 1996.\\nTWO DECADES OF FFA SUPPORT \\nFor more than 20 years, Titan has held tire auctions at various farm \\nshows where the public can purchase Titan and Goodyear Farm \\nTires with 100 percent of proceeds going to support their state FFA \\norganization. This ongoing support has amounted to more than $1 \\nmillion raised to support and develop future leaders in agriculture.\\nRIDE TO A CURE \\nRide to a Cure is an event Titan holds every October in  \\nDes Moines to raise money for cancer awareness. In 2021,  \\nthe Titan team raised over $32,700 and gave 100% of the  \\nproceeds to a local cancer center.\\nSUPPORT OF FARM RESCUE\\nTitan values the American farming \\ncommunity and is grateful to them for \\nchoosing to purchase American-made tires. \\nTo show our gratitude, we have a long-\\nstanding partnership with Farm Rescue, a nonprofit that assists farmers in \\ntimes of need. In 2019, Titan donated money to the organization to assist \\nfarmers who were victims of catastrophic spring floods in the Midwest.  \\nIn 2020, our Farm Rescue donations helped the U.S. ag industry and \\nfarmers during the pandemic.\\nIn 2021 we launched our Flags Over the Harvest campaign in which we gave away free American flags to farmers to display on \\ntheir equipment during harvest season. For each flag requested, $5 was donated by Titan to Farm Rescue.\\n17 SOCIAL\\n “WE’RE PROUD TO SUPPORT ORGANIZATIONS LIKE FARM RESCUE THAT \\nSHARE OUR V ALUES AND GIVE BACK TO DESERVING AMERICAN FARMERS.” \\n— PAUL REITZ, TIT AN PRESIDENT AND CEO'),\n",
       " Document(metadata={'producer': 'Adobe PDF Library 16.0.7', 'creator': 'Adobe InDesign 17.2 (Macintosh)', 'creationdate': '2022-04-19T09:11:48-05:00', 'moddate': '2022-05-10T11:04:16-05:00', 'trapped': '/False', 'source': './Input Dataset/D4G_0.pdf', 'total_pages': 29, 'page': 19, 'page_label': '18'}, page_content='COMMUNITY SUPPORT WORLDWIDE\\nOur employees play an active role in their local communities across the globe. Here are a few examples of their charitable giving.\\nCLOTHING DRIVE\\nOur Latin America team donated 1,300 articles of clothing and shoes in 2021 to organizations \\nthat help the needy. \\nTRANSPORTATION ASSISTANCE\\nTitan Europe and ITM, our undercarriage business, support PMG Italia SpA and its Guaranteed \\nMobility project in Italy. This initiative provides specially equipped vehicles to transport the \\nelderly, disabled and anyone else with special needs.\\nSUPPORTING CANCER RESEARCH\\nITM made donations to two cancer organizations, Ageop \\nRicerca and AIRC. Ageop Ricerca supports scientific \\nresearch in the fight against childhood cancer. Funds \\nraised by AIRC support cancer research across Italy.\\nLOCAL SPONSORSHIPS\\nTitan Europe supports various charitable organizations and sponsors local sports teams throughout \\nthe continent as a way to give back to the communities where employees work and live.\\n18 SOCIAL\\nBROAD SUPPORT FOR NONPROFITS \\nIn addition to these efforts, our North American facilities supported nearly 200 organizations in 2021, including:'),\n",
       " Document(metadata={'producer': 'Adobe PDF Library 16.0.7', 'creator': 'Adobe InDesign 17.2 (Macintosh)', 'creationdate': '2022-04-19T09:11:48-05:00', 'moddate': '2022-05-10T11:04:16-05:00', 'trapped': '/False', 'source': './Input Dataset/D4G_0.pdf', 'total_pages': 29, 'page': 20, 'page_label': '19'}, page_content='GOVERNANCE19'),\n",
       " Document(metadata={'producer': 'Adobe PDF Library 16.0.7', 'creator': 'Adobe InDesign 17.2 (Macintosh)', 'creationdate': '2022-04-19T09:11:48-05:00', 'moddate': '2022-05-10T11:04:16-05:00', 'trapped': '/False', 'source': './Input Dataset/D4G_0.pdf', 'total_pages': 29, 'page': 21, 'page_label': '20'}, page_content='20 GOVERNANCE\\nGOVERNANCE\\nThe Board of Directors oversees the progress made toward ESG \\ncommitments. Recently, they approved several updates to social policies \\nrelating to human rights, health and safety, labor management, and \\ndiversity and inclusion. In addition, the Nominating Committee specifically \\noversees the racial and gender diversity commitments of the board.'),\n",
       " Document(metadata={'producer': 'Adobe PDF Library 16.0.7', 'creator': 'Adobe InDesign 17.2 (Macintosh)', 'creationdate': '2022-04-19T09:11:48-05:00', 'moddate': '2022-05-10T11:04:16-05:00', 'trapped': '/False', 'source': './Input Dataset/D4G_0.pdf', 'total_pages': 29, 'page': 22, 'page_label': '21'}, page_content='Titan values good corporate governance practices. Since going public in 1993 and as Titan has continued to grow, our governance \\nhas accommodated change. The Board of Directors firmly believes that good corporate governance is essential in driving the \\nCompany’s long-term success. More recently, the Board has changed several processes and updated governance documents to \\nensure an appropriate level of oversight on ESG topics.\\nNUMBER OF \\nDIRECTORS  \\n8\\nBOARD \\nINDEPENDENCE \\n75%\\nPERCENTAGE OF  \\nWOMEN ON BOARD \\n13%\\nA VERAGE DIRECTOR TENURE \\n12.75 YEARS\\nSEPARATE \\nCHAIR/CEO  \\nYES\\nCOMMITTEE \\nINDEPENDENCE  \\n100%\\nGOVERNANCE SNAPSHOT\\nGOVERNANCE21'),\n",
       " Document(metadata={'producer': 'Adobe PDF Library 16.0.7', 'creator': 'Adobe InDesign 17.2 (Macintosh)', 'creationdate': '2022-04-19T09:11:48-05:00', 'moddate': '2022-05-10T11:04:16-05:00', 'trapped': '/False', 'source': './Input Dataset/D4G_0.pdf', 'total_pages': 29, 'page': 23, 'page_label': '22'}, page_content='Titan is making a strong commitment to increasing our disclosure of ESG data and enhancing related practices. The Board \\nof Directors reviewed and updated Titan’s policies and governance documents to ensure an appropriate level of oversight to \\ncomplement the strategic consideration of ESG.\\nThe Board of Directors approved the following new and revised policies: \\n •  Human Rights Policy\\n •  Labor Management Policy\\n •  Occupational Health & Safety Policy\\n •  Diversity & Inclusion Policy\\n •  Environmental Policy\\n •  Conflict Minerals Policy \\nOversight was added to the following committee charters:\\n •  The Audit Committee Charter was amended to include updated language ensuring that the lead external auditor rotated at \\nleast every five years, along with additional policies to maintain integrity of reporting.\\n •  The Nominating Committee Charter was amended to embed diversity, encouraging the committee to consider a number of \\nperspectives, including gender, race and ethnicity, as well as diversity of organizational experience, professional experience, \\neducation, cultural and other background, viewpoint, skills and other personal qualities and attributes that are believed to \\nenhance the Board’s ability to manage and direct, in an effective manner, the affairs and business of the Company.\\nIn 2021, the Titan Board of Directors expanded to add Laura Thompson. Ms. Thompson is a global business executive with deep \\nfinancial and business expertise established over a 35-year career with The Goodyear Tire & Rubber Company. Thompson served \\nas Executive Vice President of Goodyear until her retirement in March 2019, and from 2013 to 2018 she served as Executive \\nVice President and Chief Financial Officer. She also served in various finance and business roles, including Vice President Finance \\nNorth America, Vice President Business Development and Director Investor Relations. Ms. Thompson is also a Director at Parker \\nHannifin Corporation and WESCO International Inc. Ms. Thompson earned an undergraduate degree in accounting and an MBA in \\nfinance from the University of Akron.\\nThe Nominating Committee considers candidates skills, experiences, financial or business acumen and diversity. Titan \\nseeks to add to its Board individuals of high integrity and good judgment who have a record of accomplishment in their \\nchosen fields, and who display the independence of mind and strength of character needed to effectively represent the \\nbest interests of all stockholders and provide practical and diverse perspectives. The addition of Ms. Thompson exemplifies \\nthese candidate considerations.\\n22 GOVERNANCE'),\n",
       " Document(metadata={'producer': 'Adobe PDF Library 16.0.7', 'creator': 'Adobe InDesign 17.2 (Macintosh)', 'creationdate': '2022-04-19T09:11:48-05:00', 'moddate': '2022-05-10T11:04:16-05:00', 'trapped': '/False', 'source': './Input Dataset/D4G_0.pdf', 'total_pages': 29, 'page': 24, 'page_label': '23'}, page_content='23 RESOURCES\\nREPORT SCOPE\\nThis report covers information from recent years. Data referenced will be noted with individual date and location details. Future \\nreports will be released every other year.\\nPOLICIES\\nTitan has worked to update or add a series of policies to underscore its alignment with the United Nations Global Compact. These \\nand all our policies can be found on the ESG tab of our investor relations website. \\n • Human Rights Policy\\n • Labor Management Policy\\n • Occupational Health & Safety Policy\\n • Diversity & Inclusion Policy\\n • Environmental Policy\\n • Conflict Minerals Policy\\nBUSINESS OWNERSHIP NOTE\\nAs of March 31, 2022, Titan International, Inc., finalized an agreement for the sale of its Australian wheel business.'),\n",
       " Document(metadata={'producer': 'Adobe PDF Library 16.0.7', 'creator': 'Adobe InDesign 17.2 (Macintosh)', 'creationdate': '2022-04-19T09:11:48-05:00', 'moddate': '2022-05-10T11:04:16-05:00', 'trapped': '/False', 'source': './Input Dataset/D4G_0.pdf', 'total_pages': 29, 'page': 25, 'page_label': '24'}, page_content='RESOURCES\\nCountry Location ISO \\n140011\\nISO \\n9001\\n2\\nISO \\n16949\\n3\\nISO \\n45001\\n4 ASCC5\\nUnited States Quincy, IL ✔\\nUnited States Bryan, OH ✔\\nUnited States Des Moines, IA ✔\\nUnited States Freeport, IL ✔\\nUnited States Union City, TN ✔\\nUnited States Jefferson, GA ✔\\nUnited States Elkhorn, WI ✔\\nUnited States Holden, WV ✔\\nUnited States Winston-Salem, NC ✔\\nBrazil Atibaia, SP ✔ ✔\\nBrazil Paraupebas, PA ✔ ✔\\nBrazil São Paulo, SP ✔ ✔\\nItaly Ceprano ✔ ✔\\nItaly Fanano ✔ ✔\\nItaly Potenza ✔ ✔\\nItaly Valsamoggia ✔ ✔\\nItaly Finale Emilia ✔ ✔ ✔\\nItaly Jesi ✔ ✔ ✔\\nSpain Monreal del Campo ✔ ✔\\nGermany Gevelsberg ✔ ✔\\nChina Tianjin ✔\\nIndia Visakhapatnam, AP ✔\\nTurkey Aydin ✔ ✔\\nFrance Flers ✔ ✔\\nUnited Kingdom Kidderminster ✔ ✔\\nChile Iquique ✔ ✔\\nChile Santiago ✔ ✔\\nPeru Lima ✔\\nRussia Volzhsky ✔ ✔ ✔ ✔\\nA W ARDS, CERTIFICATIONS & RECOGNITION\\nEnvironmental, Quality and Health & Safety Certifications\\n1ISO 14001: Environmental Management System \\n2ISO 9001: Quality Management System \\n3ISO 16949: Quality Management System \\n4ISO 45001: Occupational Health & Safety Management System \\n5ASCC: Activity Supervisor Clearance Certificate \\n24'),\n",
       " Document(metadata={'producer': 'Adobe PDF Library 16.0.7', 'creator': 'Adobe InDesign 17.2 (Macintosh)', 'creationdate': '2022-04-19T09:11:48-05:00', 'moddate': '2022-05-10T11:04:16-05:00', 'trapped': '/False', 'source': './Input Dataset/D4G_0.pdf', 'total_pages': 29, 'page': 26, 'page_label': '25'}, page_content='25 RESOURCES\\n2021 SUSTAINABLE ACCOUNTING STANDARDS BOARD (SASB) TABLE\\nInitially, Titan will disclose data only for its locations in the United States. Data from our other locations will be provided in the \\nfuture as we enhance our data collection and standardization procedures. Titan is also collecting data on energy management \\nacross our operations and expect to disclose such data in the coming years.\\nWe are reporting in line with two SASB standards: Industrial Machinery Goods and Auto Parts.\\nTOPIC ACCOUNTING METRIC CODE DISCLOSURE\\nEnergy \\nManagement\\n1) Total energy consumed, (2) percentage \\ngrid electricity, (3) percentage renewable\\nRT-IG-130a.1\\nTR-AP-130a.1\\nWe are currently collecting and verifying data \\nfrom all our locations regarding energy use. \\nEmployee Heal th \\n& Safety\\n1) Total recordable incident rate (TRIR), \\n(2) fatality rate, and (3) near miss \\nfrequency rate (NMFR)\\nRT-IG-320a.1  (1) 7.98 \\n(2) 0 \\n(3) 1.84\\nMaterials \\nSourcing\\nDescription of the management of \\nrisks associated with the use of critical \\nmaterials\\nRT-IG-440a.1\\nTR-AP-440a.1\\nTitan International is a conflict minerals \\nfree company. Conflict minerals are neither \\npurchased nor do they enter any Titan \\nproducts. Conflict minerals are not necessary \\nto the functionality or production of any item \\nmanufactured by Titan Tire, Titan Wheel, or \\nany other subsidiary of Titan, as they are not \\npart of any formulation or recipe of any product \\nmanufactured by Titan. \\nFor more information, please refer to our \\nConflict Minerals Policy.\\nWaste \\nManagement\\n(1) Total amount of waste from \\nmanufacturing, (2) percentage hazardous, \\n(3) percentage recycled\\nTR-AP-150a.1 We are currently collecting and verifying data \\nfrom all our locations regarding waste. \\nProduct Safety\\nNumber of recalls issued, total units \\nrecalled\\nTR-AP-250a.1 Titan did not issue a recall of products over the \\npast five years.\\nDesign for Fuel \\nEfficiency\\nRevenue from products designed to \\nincrease fuel efficiency and/or reduce \\nemissions\\nTR-AP-410a.1 USD 0.00\\nMaterials \\nEfficiency\\nPercentage of products sold that are \\nrecyclable\\nTR-AP-440b.1 21.45%\\nPercentage of input materials from \\nrecycled or remanufactured content\\nTR-AP-440b.2 8.23%\\nCompetitive \\nBeha vior\\nTotal amount of monetary losses as a \\nresult of legal proceedings associated \\nwith anti-competitive behavior regulation\\nTR-AP-520a.1 USD 0.00'),\n",
       " Document(metadata={'producer': 'Adobe PDF Library 16.0.7', 'creator': 'Adobe InDesign 17.2 (Macintosh)', 'creationdate': '2022-04-19T09:11:48-05:00', 'moddate': '2022-05-10T11:04:16-05:00', 'trapped': '/False', 'source': './Input Dataset/D4G_0.pdf', 'total_pages': 29, 'page': 27, 'page_label': '26'}, page_content='1Considering all locations worldwide, Titan International has approximately 7,500 employees. \\n2These data points cover all our locations worldwide, not only the U.S. ones.\\nTOPIC ACCOUNTING METRIC CODE\\nNumber of units produced by \\nproduct category RT-IG-000.A\\nAgriculture: 1,739,849 \\nEarthmoving/Construction: 945,651 \\nMining: 402,519\\nNumber of employees1 RT-IG-000.B Approx. 2,300\\nNumber of parts produced TR-AP-000.A 3,075,529\\nWeight of parts produced TR-AP-000.B 148,239 Metric Tons\\nArea of manufacturing \\nplants\\n2 TR-AP-000.C\\nOwned: 2,323,969.54 m2 (25,015,000 sq feet) \\nLeased: 225,382.77 m2 (2,426,000 sq feet) \\nTotal: 2,549,352.32 m2 (27,441,000 sq feet)\\nRESOURCES26'),\n",
       " Document(metadata={'producer': 'Adobe PDF Library 16.0.7', 'creator': 'Adobe InDesign 17.2 (Macintosh)', 'creationdate': '2022-04-19T09:11:48-05:00', 'moddate': '2022-05-10T11:04:16-05:00', 'trapped': '/False', 'source': './Input Dataset/D4G_0.pdf', 'total_pages': 29, 'page': 28, 'page_label': '27'}, page_content='2021 CORPORATE SOCIAL  \\nRESPONSIBILITY REPORT')]"
      ]
     },
     "execution_count": 7,
     "metadata": {},
     "output_type": "execute_result"
    }
   ],
   "source": [
    "pages"
   ]
  },
  {
   "cell_type": "code",
   "execution_count": 8,
   "id": "8b863151-71d0-4a3f-86f4-b3d0d96df528",
   "metadata": {},
   "outputs": [],
   "source": [
    "splitter = RecursiveCharacterTextSplitter.from_tiktoken_encoder(chunk_size = 1000, chunk_overlap = 200)"
   ]
  },
  {
   "cell_type": "code",
   "execution_count": 9,
   "id": "08a90bd4-c239-4a50-bb42-f2487f389951",
   "metadata": {},
   "outputs": [],
   "source": [
    "chunks = splitter.split_documents(pages)"
   ]
  },
  {
   "cell_type": "code",
   "execution_count": 10,
   "id": "5f5ca087-f9f7-4e52-a6fb-1f65f9dea6ae",
   "metadata": {},
   "outputs": [
    {
     "data": {
      "text/plain": [
       "32"
      ]
     },
     "execution_count": 10,
     "metadata": {},
     "output_type": "execute_result"
    }
   ],
   "source": [
    "len(chunks)"
   ]
  },
  {
   "cell_type": "code",
   "execution_count": 11,
   "id": "6f360ca9-8c7f-4a50-b667-f964ad8a2599",
   "metadata": {},
   "outputs": [],
   "source": [
    "embeddings = OpenAIEmbeddings()"
   ]
  },
  {
   "cell_type": "code",
   "execution_count": 12,
   "id": "9d7f1cde-ad17-4552-a6cb-40e5a38128f4",
   "metadata": {},
   "outputs": [
    {
     "name": "stderr",
     "output_type": "stream",
     "text": [
      "C:\\Users\\91807\\AppData\\Local\\Temp\\ipykernel_4344\\4129467475.py:2: LangChainDeprecationWarning: The class `Chroma` was deprecated in LangChain 0.2.9 and will be removed in 1.0. An updated version of the class exists in the :class:`~langchain-chroma package and should be used instead. To use it run `pip install -U :class:`~langchain-chroma` and import as `from :class:`~langchain_chroma import Chroma``.\n",
      "  Chroma(persist_directory = db_name, embedding_function = embeddings).delete_collection()\n"
     ]
    }
   ],
   "source": [
    "if os.path.exists(db_name):\n",
    "    Chroma(persist_directory = db_name, embedding_function = embeddings).delete_collection()"
   ]
  },
  {
   "cell_type": "code",
   "execution_count": 13,
   "id": "557f31f3-7108-43d8-989e-3c8b47bc5134",
   "metadata": {},
   "outputs": [],
   "source": [
    "vector_db = Chroma.from_documents(documents = chunks, embedding = embeddings, persist_directory = db_name)"
   ]
  },
  {
   "cell_type": "code",
   "execution_count": 14,
   "id": "9e870c5d-b2bb-4d5c-ba4e-1ebc45b0a4fb",
   "metadata": {},
   "outputs": [],
   "source": [
    "retriever = vector_db.as_retriever()"
   ]
  },
  {
   "cell_type": "code",
   "execution_count": 15,
   "id": "e31286f0-db8e-4e44-ae46-d9f52ffe5d88",
   "metadata": {},
   "outputs": [],
   "source": [
    "template = \"\"\"You are a helpful assistant that generates multiple search queries based on a single input query. \\n\n",
    "Generate multiple search queries related to: {question} \\n\n",
    "Output (4 queries):\"\"\""
   ]
  },
  {
   "cell_type": "code",
   "execution_count": 16,
   "id": "96a404b2-330b-43ea-a297-9e82bdbca084",
   "metadata": {},
   "outputs": [],
   "source": [
    "prompt_fus = ChatPromptTemplate.from_template(template)"
   ]
  },
  {
   "cell_type": "code",
   "execution_count": 17,
   "id": "706335f5-6504-435d-9417-76a0aa419d3b",
   "metadata": {},
   "outputs": [],
   "source": [
    "generate_queries = (prompt_fus | ChatOpenAI(temperature = 0) | StrOutputParser() | (lambda x: x.split('\\n')))"
   ]
  },
  {
   "cell_type": "code",
   "execution_count": 19,
   "id": "9473c681-8392-414d-9cc8-e95f31d840dd",
   "metadata": {},
   "outputs": [],
   "source": [
    "def reciprocal_rank_fusion(results: list[list], k = 60):\n",
    "    fused_scores = {}\n",
    "    for list_doc in results:\n",
    "        for rank,doc in enumerate(list_doc):\n",
    "            #print(\"Document\\n\",doc)\n",
    "            doc_str = dumps(doc)\n",
    "            #print(\"Document\\n\",doc_str)\n",
    "            if doc_str not in fused_scores:\n",
    "                fused_scores[doc_str] = 0\n",
    "            previous_score = fused_scores[doc_str]\n",
    "            fused_scores[doc_str] += 1/(rank+k)\n",
    "            \n",
    "    ranked_res = [(loads(doc),score) for doc,score in sorted(fused_scores.items(), key = lambda x: x[1], reverse = True)]\n",
    "    \n",
    "    return ranked_res"
   ]
  },
  {
   "cell_type": "code",
   "execution_count": 34,
   "id": "1a3c7267-79a5-4f11-8b3b-f09e0fd6aaa1",
   "metadata": {},
   "outputs": [],
   "source": [
    "question = \"What is the strategy and Target of the initiative?\""
   ]
  },
  {
   "cell_type": "code",
   "execution_count": 23,
   "id": "83a02582-16ff-488b-894a-399631fabfe3",
   "metadata": {},
   "outputs": [
    {
     "name": "stderr",
     "output_type": "stream",
     "text": [
      "C:\\Users\\91807\\AppData\\Local\\Temp\\ipykernel_4344\\3891042279.py:13: LangChainBetaWarning: The function `loads` is in beta. It is actively being worked on, so the API may change.\n",
      "  ranked_res = [(loads(doc),score) for doc,score in sorted(fused_scores.items(), key = lambda x: x[1], reverse = True)]\n"
     ]
    }
   ],
   "source": [
    "retrieval_fusion = generate_queries | retriever.map() | reciprocal_rank_fusion\n",
    "#docs = retrieval_fusion.invoke({'question':question})"
   ]
  },
  {
   "cell_type": "code",
   "execution_count": 25,
   "id": "d70f5dab-a63e-4018-bc45-8aca93b00352",
   "metadata": {},
   "outputs": [],
   "source": [
    "template = \"\"\"Answer the following question based on this context:\n",
    "\n",
    "{context}\n",
    "\n",
    "Question: {question}\n",
    "\"\"\""
   ]
  },
  {
   "cell_type": "code",
   "execution_count": 27,
   "id": "ae32b996-1d71-460a-817d-5ed9870a5040",
   "metadata": {},
   "outputs": [],
   "source": [
    "prompt = ChatPromptTemplate.from_template(template)"
   ]
  },
  {
   "cell_type": "code",
   "execution_count": 29,
   "id": "09b2a9b3-4596-424f-b412-e3d5454c70f3",
   "metadata": {},
   "outputs": [],
   "source": [
    "llm = ChatOpenAI(temperature = 0)"
   ]
  },
  {
   "cell_type": "code",
   "execution_count": 35,
   "id": "3b09128b-3fba-4da5-ba21-e0af7d1f0a15",
   "metadata": {},
   "outputs": [
    {
     "name": "stdout",
     "output_type": "stream",
     "text": [
      "The strategy of the initiative is to focus on environmental, social, and governance (ESG) efforts by creating and updating enterprise-wide policies related to human rights, health and safety, labor management, diversity and inclusion, and environmental issues. The target of the initiative is to make a positive contribution in the communities where the company operates by dedicating time and effort to organizations and projects that strive to create a positive impact. The Board of Directors oversees the progress made toward ESG commitments and ensures diversity and inclusion in governance practices. The initiative also involves supporting charitable organizations, sponsoring local sports teams, and making donations to cancer research and other social causes.\n"
     ]
    }
   ],
   "source": [
    "final_chain = ({\"context\" : retrieval_fusion,\n",
    "               \"question\" : itemgetter(\"question\")}\n",
    "               | prompt\n",
    "               | llm\n",
    "               | StrOutputParser()\n",
    "              )\n",
    "\n",
    "print(final_chain.invoke({\"question\":question}))"
   ]
  },
  {
   "cell_type": "code",
   "execution_count": null,
   "id": "4cca78da-4958-4963-a83c-4df463914355",
   "metadata": {},
   "outputs": [],
   "source": []
  }
 ],
 "metadata": {
  "kernelspec": {
   "display_name": "Python 3 (ipykernel)",
   "language": "python",
   "name": "python3"
  },
  "language_info": {
   "codemirror_mode": {
    "name": "ipython",
    "version": 3
   },
   "file_extension": ".py",
   "mimetype": "text/x-python",
   "name": "python",
   "nbconvert_exporter": "python",
   "pygments_lexer": "ipython3",
   "version": "3.9.12"
  }
 },
 "nbformat": 4,
 "nbformat_minor": 5
}
